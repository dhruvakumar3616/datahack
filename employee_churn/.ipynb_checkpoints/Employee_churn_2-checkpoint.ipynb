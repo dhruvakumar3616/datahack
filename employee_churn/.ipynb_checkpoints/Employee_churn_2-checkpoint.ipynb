{
 "cells": [
  {
   "cell_type": "code",
   "execution_count": 1,
   "metadata": {},
   "outputs": [
    {
     "name": "stdout",
     "output_type": "stream",
     "text": [
      "Collecting squarify\n",
      "  Using cached https://files.pythonhosted.org/packages/4e/f2/1f47d7f8c34e3c5f45de8b7fad06947558964e05ce6cccc94cf2066bd22b/squarify-0.4.2-py3-none-any.whl\n",
      "Installing collected packages: squarify\n",
      "Successfully installed squarify-0.4.2\n"
     ]
    }
   ],
   "source": [
    "! pip install squarify"
   ]
  },
  {
   "cell_type": "code",
   "execution_count": 2,
   "metadata": {},
   "outputs": [
    {
     "name": "stdout",
     "output_type": "stream",
     "text": [
      "Collecting plotly\n",
      "  Downloading https://files.pythonhosted.org/packages/37/25/32fb6f58bfc6f462d61bf0de95e8c0bbf07bfaba11ed0ecb81c0590f3584/plotly-3.7.1-py2.py3-none-any.whl (35.7MB)\n",
      "Requirement already satisfied: decorator>=4.0.6 in c:\\users\\dhruva\\appdata\\local\\conda\\conda\\envs\\py36\\lib\\site-packages (from plotly) (4.3.2)\n",
      "Collecting requests (from plotly)\n",
      "  Downloading https://files.pythonhosted.org/packages/7d/e3/20f3d364d6c8e5d2353c72a67778eb189176f08e873c9900e10c0287b84b/requests-2.21.0-py2.py3-none-any.whl (57kB)\n",
      "Requirement already satisfied: nbformat>=4.2 in c:\\users\\dhruva\\appdata\\local\\conda\\conda\\envs\\py36\\lib\\site-packages (from plotly) (4.4.0)\n",
      "Requirement already satisfied: pytz in c:\\users\\dhruva\\appdata\\local\\conda\\conda\\envs\\py36\\lib\\site-packages (from plotly) (2018.9)\n",
      "Collecting retrying>=1.3.3 (from plotly)\n",
      "  Using cached https://files.pythonhosted.org/packages/44/ef/beae4b4ef80902f22e3af073397f079c96969c69b2c7d52a57ea9ae61c9d/retrying-1.3.3.tar.gz\n",
      "Requirement already satisfied: six in c:\\users\\dhruva\\appdata\\local\\conda\\conda\\envs\\py36\\lib\\site-packages (from plotly) (1.12.0)\n",
      "Collecting urllib3<1.25,>=1.21.1 (from requests->plotly)\n",
      "  Downloading https://files.pythonhosted.org/packages/62/00/ee1d7de624db8ba7090d1226aebefab96a2c71cd5cfa7629d6ad3f61b79e/urllib3-1.24.1-py2.py3-none-any.whl (118kB)\n",
      "Collecting chardet<3.1.0,>=3.0.2 (from requests->plotly)\n",
      "  Downloading https://files.pythonhosted.org/packages/bc/a9/01ffebfb562e4274b6487b4bb1ddec7ca55ec7510b22e4c51f14098443b8/chardet-3.0.4-py2.py3-none-any.whl (133kB)\n",
      "Collecting idna<2.9,>=2.5 (from requests->plotly)\n",
      "  Downloading https://files.pythonhosted.org/packages/14/2c/cd551d81dbe15200be1cf41cd03869a46fe7226e7450af7a6545bfc474c9/idna-2.8-py2.py3-none-any.whl (58kB)\n",
      "Requirement already satisfied: certifi>=2017.4.17 in c:\\users\\dhruva\\appdata\\local\\conda\\conda\\envs\\py36\\lib\\site-packages (from requests->plotly) (2018.11.29)\n",
      "Requirement already satisfied: ipython_genutils in c:\\users\\dhruva\\appdata\\local\\conda\\conda\\envs\\py36\\lib\\site-packages (from nbformat>=4.2->plotly) (0.2.0)\n",
      "Requirement already satisfied: traitlets>=4.1 in c:\\users\\dhruva\\appdata\\local\\conda\\conda\\envs\\py36\\lib\\site-packages (from nbformat>=4.2->plotly) (4.3.2)\n",
      "Requirement already satisfied: jsonschema!=2.5.0,>=2.4 in c:\\users\\dhruva\\appdata\\local\\conda\\conda\\envs\\py36\\lib\\site-packages (from nbformat>=4.2->plotly) (2.6.0)\n",
      "Requirement already satisfied: jupyter_core in c:\\users\\dhruva\\appdata\\local\\conda\\conda\\envs\\py36\\lib\\site-packages (from nbformat>=4.2->plotly) (4.4.0)\n",
      "Building wheels for collected packages: retrying\n",
      "  Building wheel for retrying (setup.py): started\n",
      "  Building wheel for retrying (setup.py): finished with status 'done'\n",
      "  Stored in directory: C:\\Users\\dhruva\\AppData\\Local\\pip\\Cache\\wheels\\d7\\a9\\33\\acc7b709e2a35caa7d4cae442f6fe6fbf2c43f80823d46460c\n",
      "Successfully built retrying\n",
      "Installing collected packages: urllib3, chardet, idna, requests, retrying, plotly\n",
      "Successfully installed chardet-3.0.4 idna-2.8 plotly-3.7.1 requests-2.21.0 retrying-1.3.3 urllib3-1.24.1\n"
     ]
    }
   ],
   "source": [
    "! pip install plotly"
   ]
  },
  {
   "cell_type": "code",
   "execution_count": 4,
   "metadata": {},
   "outputs": [
    {
     "name": "stdout",
     "output_type": "stream",
     "text": [
      "Requirement already up-to-date: plotly in c:\\users\\dhruva\\appdata\\local\\conda\\conda\\envs\\py36\\lib\\site-packages (3.7.1)\n",
      "Requirement already satisfied, skipping upgrade: six in c:\\users\\dhruva\\appdata\\local\\conda\\conda\\envs\\py36\\lib\\site-packages (from plotly) (1.12.0)\n",
      "Requirement already satisfied, skipping upgrade: retrying>=1.3.3 in c:\\users\\dhruva\\appdata\\local\\conda\\conda\\envs\\py36\\lib\\site-packages (from plotly) (1.3.3)\n",
      "Requirement already satisfied, skipping upgrade: decorator>=4.0.6 in c:\\users\\dhruva\\appdata\\local\\conda\\conda\\envs\\py36\\lib\\site-packages (from plotly) (4.3.2)\n",
      "Requirement already satisfied, skipping upgrade: pytz in c:\\users\\dhruva\\appdata\\local\\conda\\conda\\envs\\py36\\lib\\site-packages (from plotly) (2018.9)\n",
      "Requirement already satisfied, skipping upgrade: nbformat>=4.2 in c:\\users\\dhruva\\appdata\\local\\conda\\conda\\envs\\py36\\lib\\site-packages (from plotly) (4.4.0)\n",
      "Requirement already satisfied, skipping upgrade: requests in c:\\users\\dhruva\\appdata\\local\\conda\\conda\\envs\\py36\\lib\\site-packages (from plotly) (2.21.0)\n",
      "Requirement already satisfied, skipping upgrade: ipython_genutils in c:\\users\\dhruva\\appdata\\local\\conda\\conda\\envs\\py36\\lib\\site-packages (from nbformat>=4.2->plotly) (0.2.0)\n",
      "Requirement already satisfied, skipping upgrade: traitlets>=4.1 in c:\\users\\dhruva\\appdata\\local\\conda\\conda\\envs\\py36\\lib\\site-packages (from nbformat>=4.2->plotly) (4.3.2)\n",
      "Requirement already satisfied, skipping upgrade: jsonschema!=2.5.0,>=2.4 in c:\\users\\dhruva\\appdata\\local\\conda\\conda\\envs\\py36\\lib\\site-packages (from nbformat>=4.2->plotly) (2.6.0)\n",
      "Requirement already satisfied, skipping upgrade: jupyter_core in c:\\users\\dhruva\\appdata\\local\\conda\\conda\\envs\\py36\\lib\\site-packages (from nbformat>=4.2->plotly) (4.4.0)\n",
      "Requirement already satisfied, skipping upgrade: chardet<3.1.0,>=3.0.2 in c:\\users\\dhruva\\appdata\\local\\conda\\conda\\envs\\py36\\lib\\site-packages (from requests->plotly) (3.0.4)\n",
      "Requirement already satisfied, skipping upgrade: certifi>=2017.4.17 in c:\\users\\dhruva\\appdata\\local\\conda\\conda\\envs\\py36\\lib\\site-packages (from requests->plotly) (2018.11.29)\n",
      "Requirement already satisfied, skipping upgrade: urllib3<1.25,>=1.21.1 in c:\\users\\dhruva\\appdata\\local\\conda\\conda\\envs\\py36\\lib\\site-packages (from requests->plotly) (1.24.1)\n",
      "Requirement already satisfied, skipping upgrade: idna<2.9,>=2.5 in c:\\users\\dhruva\\appdata\\local\\conda\\conda\\envs\\py36\\lib\\site-packages (from requests->plotly) (2.8)\n"
     ]
    }
   ],
   "source": [
    " !pip install --upgrade plotly"
   ]
  },
  {
   "cell_type": "code",
   "execution_count": null,
   "metadata": {},
   "outputs": [],
   "source": [
    "import matplotlib.pyplot as plt\n",
    "import pandas as pd\n",
    "import numpy as np\n",
    "import seaborn as sns\n",
    "import plotly\n",
    "import plotly.offline as pyoff\n",
    "import plotly.figure_factory as ff\n",
    "from plotly.offline "
   ]
  },
  {
   "cell_type": "code",
   "execution_count": 5,
   "metadata": {},
   "outputs": [
    {
     "ename": "NameError",
     "evalue": "name 'plotly' is not defined",
     "output_type": "error",
     "traceback": [
      "\u001b[1;31m---------------------------------------------------------------------------\u001b[0m",
      "\u001b[1;31mNameError\u001b[0m                                 Traceback (most recent call last)",
      "\u001b[1;32m<ipython-input-5-1da9d7e86d34>\u001b[0m in \u001b[0;36m<module>\u001b[1;34m\u001b[0m\n\u001b[1;32m----> 1\u001b[1;33m \u001b[0mplotly\u001b[0m\u001b[1;33m.\u001b[0m\u001b[0m__version__\u001b[0m\u001b[1;33m\u001b[0m\u001b[1;33m\u001b[0m\u001b[0m\n\u001b[0m",
      "\u001b[1;31mNameError\u001b[0m: name 'plotly' is not defined"
     ]
    }
   ],
   "source": [
    "plotly.__version__"
   ]
  },
  {
   "cell_type": "code",
   "execution_count": null,
   "metadata": {},
   "outputs": [],
   "source": []
  }
 ],
 "metadata": {
  "kernelspec": {
   "display_name": "Python 3",
   "language": "python",
   "name": "python3"
  },
  "language_info": {
   "codemirror_mode": {
    "name": "ipython",
    "version": 3
   },
   "file_extension": ".py",
   "mimetype": "text/x-python",
   "name": "python",
   "nbconvert_exporter": "python",
   "pygments_lexer": "ipython3",
   "version": "3.6.8"
  }
 },
 "nbformat": 4,
 "nbformat_minor": 2
}
