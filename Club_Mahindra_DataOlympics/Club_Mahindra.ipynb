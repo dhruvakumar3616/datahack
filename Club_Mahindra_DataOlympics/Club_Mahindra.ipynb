{
 "cells": [
  {
   "cell_type": "markdown",
   "metadata": {},
   "source": [
    "# Club Mahindra DataOlympics"
   ]
  },
  {
   "cell_type": "markdown",
   "metadata": {},
   "source": [
    "## Problem Statement\n",
    "### Food & Beverages Spend Prediction in Club Mahindra Resorts\n",
    "Club Mahindra (Club M) makes significant revenue from Food and Beverages (F&B) sales in their resorts. The members of Club M are offered a wide variety of items in either buffet or À la carte form. Following are some benefits that the model to predict the spend by a member in their next visit to a resort will bring:\n",
    "1. Predicting the F&B spend of a member in a resort would help in improving the pre-sales during resort booking through web and mobile app\n",
    "2. Targeted campaigns to suit the member taste and preference of F&B\n",
    "3. Providing members in the resort with a customized experience and offers\n",
    "4. Help resort kitchen to plan the inventory and food quantity to be prepared in advance\n",
    "Given the information related to resort, club member, reservation etc. the task is to predict average spend per room night on food and beverages for the each reservation in the test set."
   ]
  },
  {
   "cell_type": "markdown",
   "metadata": {},
   "source": [
    "# Read Data"
   ]
  },
  {
   "cell_type": "code",
   "execution_count": 1,
   "metadata": {},
   "outputs": [],
   "source": [
    "import pandas as pd\n",
    "import numpy as np"
   ]
  },
  {
   "cell_type": "code",
   "execution_count": 3,
   "metadata": {},
   "outputs": [],
   "source": [
    "train_df = pd.read_csv(\"train.csv\")\n",
    "test_df =pd.read_csv(\"test.csv\")"
   ]
  },
  {
   "cell_type": "code",
   "execution_count": 5,
   "metadata": {},
   "outputs": [],
   "source": [
    "train_df[[\"booking_date\",\"checkin_date\",\"checkout_date\"]] = train_df[[\"booking_date\",\"checkin_date\",\"checkout_date\"]].apply(pd.to_datetime, format=\"%d/%m/%y\")\n",
    "test_df[[\"booking_date\",\"checkin_date\",\"checkout_date\"]] = test_df[[\"booking_date\",\"checkin_date\",\"checkout_date\"]].apply(pd.to_datetime, format=\"%d/%m/%y\")\n",
    "\n",
    "\n",
    "#\"booking_date\",\"checkin_date\",\"checkout_date\""
   ]
  },
  {
   "cell_type": "code",
   "execution_count": 6,
   "metadata": {},
   "outputs": [
    {
     "data": {
      "text/html": [
       "<div>\n",
       "<style scoped>\n",
       "    .dataframe tbody tr th:only-of-type {\n",
       "        vertical-align: middle;\n",
       "    }\n",
       "\n",
       "    .dataframe tbody tr th {\n",
       "        vertical-align: top;\n",
       "    }\n",
       "\n",
       "    .dataframe thead th {\n",
       "        text-align: right;\n",
       "    }\n",
       "</style>\n",
       "<table border=\"1\" class=\"dataframe\">\n",
       "  <thead>\n",
       "    <tr style=\"text-align: right;\">\n",
       "      <th></th>\n",
       "      <th>reservation_id</th>\n",
       "      <th>booking_date</th>\n",
       "      <th>checkin_date</th>\n",
       "      <th>checkout_date</th>\n",
       "      <th>channel_code</th>\n",
       "      <th>main_product_code</th>\n",
       "      <th>numberofadults</th>\n",
       "      <th>numberofchildren</th>\n",
       "      <th>persontravellingid</th>\n",
       "      <th>resort_region_code</th>\n",
       "      <th>...</th>\n",
       "      <th>state_code_residence</th>\n",
       "      <th>state_code_resort</th>\n",
       "      <th>total_pax</th>\n",
       "      <th>member_age_buckets</th>\n",
       "      <th>booking_type_code</th>\n",
       "      <th>memberid</th>\n",
       "      <th>cluster_code</th>\n",
       "      <th>reservationstatusid_code</th>\n",
       "      <th>resort_id</th>\n",
       "      <th>amount_spent_per_room_night_scaled</th>\n",
       "    </tr>\n",
       "  </thead>\n",
       "  <tbody>\n",
       "    <tr>\n",
       "      <th>0</th>\n",
       "      <td>07659f3758d8aee27f5a7e2887adeacb67021cb95ada1b...</td>\n",
       "      <td>2018-04-05</td>\n",
       "      <td>2018-04-05</td>\n",
       "      <td>2018-04-06</td>\n",
       "      <td>3</td>\n",
       "      <td>1</td>\n",
       "      <td>2</td>\n",
       "      <td>0</td>\n",
       "      <td>46</td>\n",
       "      <td>3</td>\n",
       "      <td>...</td>\n",
       "      <td>7.0</td>\n",
       "      <td>3</td>\n",
       "      <td>3</td>\n",
       "      <td>F</td>\n",
       "      <td>1</td>\n",
       "      <td>3d1539e56495b6991f0a3ef5a61ca3d03ce4fff7380e9a...</td>\n",
       "      <td>F</td>\n",
       "      <td>C</td>\n",
       "      <td>4e07408562bedb8b60ce05c1decfe3ad16b72230967de0...</td>\n",
       "      <td>7.706428</td>\n",
       "    </tr>\n",
       "    <tr>\n",
       "      <th>1</th>\n",
       "      <td>03930f033646d073462b35d411616323597715ac4fc398...</td>\n",
       "      <td>2015-01-23</td>\n",
       "      <td>2015-04-11</td>\n",
       "      <td>2015-04-16</td>\n",
       "      <td>1</td>\n",
       "      <td>1</td>\n",
       "      <td>2</td>\n",
       "      <td>0</td>\n",
       "      <td>46</td>\n",
       "      <td>3</td>\n",
       "      <td>...</td>\n",
       "      <td>7.0</td>\n",
       "      <td>5</td>\n",
       "      <td>2</td>\n",
       "      <td>F</td>\n",
       "      <td>1</td>\n",
       "      <td>3d1539e56495b6991f0a3ef5a61ca3d03ce4fff7380e9a...</td>\n",
       "      <td>F</td>\n",
       "      <td>A</td>\n",
       "      <td>39fa9ec190eee7b6f4dff1100d6343e10918d044c75eac...</td>\n",
       "      <td>6.662563</td>\n",
       "    </tr>\n",
       "    <tr>\n",
       "      <th>2</th>\n",
       "      <td>d145a32920e6587ad95bfe299d80c0affa268220535aaf...</td>\n",
       "      <td>2015-01-28</td>\n",
       "      <td>2015-02-01</td>\n",
       "      <td>2015-02-05</td>\n",
       "      <td>1</td>\n",
       "      <td>1</td>\n",
       "      <td>2</td>\n",
       "      <td>0</td>\n",
       "      <td>47</td>\n",
       "      <td>1</td>\n",
       "      <td>...</td>\n",
       "      <td>7.0</td>\n",
       "      <td>1</td>\n",
       "      <td>2</td>\n",
       "      <td>F</td>\n",
       "      <td>1</td>\n",
       "      <td>3d1539e56495b6991f0a3ef5a61ca3d03ce4fff7380e9a...</td>\n",
       "      <td>E</td>\n",
       "      <td>A</td>\n",
       "      <td>535fa30d7e25dd8a49f1536779734ec8286108d115da50...</td>\n",
       "      <td>7.871602</td>\n",
       "    </tr>\n",
       "    <tr>\n",
       "      <th>3</th>\n",
       "      <td>cfd77f44811ed62f25a220b53324cdbafc662a4c9e5f04...</td>\n",
       "      <td>2015-05-02</td>\n",
       "      <td>2015-06-11</td>\n",
       "      <td>2015-06-16</td>\n",
       "      <td>1</td>\n",
       "      <td>1</td>\n",
       "      <td>2</td>\n",
       "      <td>2</td>\n",
       "      <td>46</td>\n",
       "      <td>2</td>\n",
       "      <td>...</td>\n",
       "      <td>7.0</td>\n",
       "      <td>2</td>\n",
       "      <td>2</td>\n",
       "      <td>F</td>\n",
       "      <td>1</td>\n",
       "      <td>3d1539e56495b6991f0a3ef5a61ca3d03ce4fff7380e9a...</td>\n",
       "      <td>D</td>\n",
       "      <td>A</td>\n",
       "      <td>d4735e3a265e16eee03f59718b9b5d03019c07d8b6c51f...</td>\n",
       "      <td>5.344943</td>\n",
       "    </tr>\n",
       "    <tr>\n",
       "      <th>4</th>\n",
       "      <td>937cff9e4dcfc2459620153dfc8b9962ac22bea67dfb29...</td>\n",
       "      <td>2015-09-02</td>\n",
       "      <td>2015-12-14</td>\n",
       "      <td>2015-12-19</td>\n",
       "      <td>1</td>\n",
       "      <td>1</td>\n",
       "      <td>2</td>\n",
       "      <td>0</td>\n",
       "      <td>46</td>\n",
       "      <td>2</td>\n",
       "      <td>...</td>\n",
       "      <td>7.0</td>\n",
       "      <td>2</td>\n",
       "      <td>2</td>\n",
       "      <td>F</td>\n",
       "      <td>1</td>\n",
       "      <td>3d1539e56495b6991f0a3ef5a61ca3d03ce4fff7380e9a...</td>\n",
       "      <td>D</td>\n",
       "      <td>A</td>\n",
       "      <td>d4735e3a265e16eee03f59718b9b5d03019c07d8b6c51f...</td>\n",
       "      <td>7.059346</td>\n",
       "    </tr>\n",
       "  </tbody>\n",
       "</table>\n",
       "<p>5 rows × 24 columns</p>\n",
       "</div>"
      ],
      "text/plain": [
       "                                      reservation_id booking_date  \\\n",
       "0  07659f3758d8aee27f5a7e2887adeacb67021cb95ada1b...   2018-04-05   \n",
       "1  03930f033646d073462b35d411616323597715ac4fc398...   2015-01-23   \n",
       "2  d145a32920e6587ad95bfe299d80c0affa268220535aaf...   2015-01-28   \n",
       "3  cfd77f44811ed62f25a220b53324cdbafc662a4c9e5f04...   2015-05-02   \n",
       "4  937cff9e4dcfc2459620153dfc8b9962ac22bea67dfb29...   2015-09-02   \n",
       "\n",
       "  checkin_date checkout_date  channel_code  main_product_code  numberofadults  \\\n",
       "0   2018-04-05    2018-04-06             3                  1               2   \n",
       "1   2015-04-11    2015-04-16             1                  1               2   \n",
       "2   2015-02-01    2015-02-05             1                  1               2   \n",
       "3   2015-06-11    2015-06-16             1                  1               2   \n",
       "4   2015-12-14    2015-12-19             1                  1               2   \n",
       "\n",
       "   numberofchildren  persontravellingid  resort_region_code  ...  \\\n",
       "0                 0                  46                   3  ...   \n",
       "1                 0                  46                   3  ...   \n",
       "2                 0                  47                   1  ...   \n",
       "3                 2                  46                   2  ...   \n",
       "4                 0                  46                   2  ...   \n",
       "\n",
       "   state_code_residence  state_code_resort  total_pax  member_age_buckets  \\\n",
       "0                   7.0                  3          3                   F   \n",
       "1                   7.0                  5          2                   F   \n",
       "2                   7.0                  1          2                   F   \n",
       "3                   7.0                  2          2                   F   \n",
       "4                   7.0                  2          2                   F   \n",
       "\n",
       "   booking_type_code                                           memberid  \\\n",
       "0                  1  3d1539e56495b6991f0a3ef5a61ca3d03ce4fff7380e9a...   \n",
       "1                  1  3d1539e56495b6991f0a3ef5a61ca3d03ce4fff7380e9a...   \n",
       "2                  1  3d1539e56495b6991f0a3ef5a61ca3d03ce4fff7380e9a...   \n",
       "3                  1  3d1539e56495b6991f0a3ef5a61ca3d03ce4fff7380e9a...   \n",
       "4                  1  3d1539e56495b6991f0a3ef5a61ca3d03ce4fff7380e9a...   \n",
       "\n",
       "   cluster_code reservationstatusid_code  \\\n",
       "0             F                        C   \n",
       "1             F                        A   \n",
       "2             E                        A   \n",
       "3             D                        A   \n",
       "4             D                        A   \n",
       "\n",
       "                                           resort_id  \\\n",
       "0  4e07408562bedb8b60ce05c1decfe3ad16b72230967de0...   \n",
       "1  39fa9ec190eee7b6f4dff1100d6343e10918d044c75eac...   \n",
       "2  535fa30d7e25dd8a49f1536779734ec8286108d115da50...   \n",
       "3  d4735e3a265e16eee03f59718b9b5d03019c07d8b6c51f...   \n",
       "4  d4735e3a265e16eee03f59718b9b5d03019c07d8b6c51f...   \n",
       "\n",
       "  amount_spent_per_room_night_scaled  \n",
       "0                           7.706428  \n",
       "1                           6.662563  \n",
       "2                           7.871602  \n",
       "3                           5.344943  \n",
       "4                           7.059346  \n",
       "\n",
       "[5 rows x 24 columns]"
      ]
     },
     "execution_count": 6,
     "metadata": {},
     "output_type": "execute_result"
    }
   ],
   "source": [
    "# first 5 rows of train\n",
    "train_df.head()"
   ]
  },
  {
   "cell_type": "code",
   "execution_count": 7,
   "metadata": {
    "scrolled": true
   },
   "outputs": [
    {
     "data": {
      "text/html": [
       "<div>\n",
       "<style scoped>\n",
       "    .dataframe tbody tr th:only-of-type {\n",
       "        vertical-align: middle;\n",
       "    }\n",
       "\n",
       "    .dataframe tbody tr th {\n",
       "        vertical-align: top;\n",
       "    }\n",
       "\n",
       "    .dataframe thead th {\n",
       "        text-align: right;\n",
       "    }\n",
       "</style>\n",
       "<table border=\"1\" class=\"dataframe\">\n",
       "  <thead>\n",
       "    <tr style=\"text-align: right;\">\n",
       "      <th></th>\n",
       "      <th>reservation_id</th>\n",
       "      <th>booking_date</th>\n",
       "      <th>checkin_date</th>\n",
       "      <th>checkout_date</th>\n",
       "      <th>channel_code</th>\n",
       "      <th>main_product_code</th>\n",
       "      <th>numberofadults</th>\n",
       "      <th>numberofchildren</th>\n",
       "      <th>persontravellingid</th>\n",
       "      <th>resort_region_code</th>\n",
       "      <th>...</th>\n",
       "      <th>state_code_residence</th>\n",
       "      <th>state_code_resort</th>\n",
       "      <th>total_pax</th>\n",
       "      <th>member_age_buckets</th>\n",
       "      <th>booking_type_code</th>\n",
       "      <th>memberid</th>\n",
       "      <th>cluster_code</th>\n",
       "      <th>reservationstatusid_code</th>\n",
       "      <th>resort_id</th>\n",
       "      <th>amount_spent_per_room_night_scaled</th>\n",
       "    </tr>\n",
       "  </thead>\n",
       "  <tbody>\n",
       "    <tr>\n",
       "      <th>341419</th>\n",
       "      <td>a804d59b74b1d532a90740ded80dd05873bbef125bc349...</td>\n",
       "      <td>2019-02-11</td>\n",
       "      <td>2019-02-27</td>\n",
       "      <td>2019-03-01</td>\n",
       "      <td>2</td>\n",
       "      <td>2</td>\n",
       "      <td>4</td>\n",
       "      <td>0</td>\n",
       "      <td>47</td>\n",
       "      <td>1</td>\n",
       "      <td>...</td>\n",
       "      <td>8.0</td>\n",
       "      <td>1</td>\n",
       "      <td>2</td>\n",
       "      <td>I</td>\n",
       "      <td>1</td>\n",
       "      <td>0095e00c6dae789d37628bd85697e53c423231337994c4...</td>\n",
       "      <td>E</td>\n",
       "      <td>A</td>\n",
       "      <td>c6f3ac57944a531490cd39902d0f777715fd005efac9a3...</td>\n",
       "      <td>5.918087</td>\n",
       "    </tr>\n",
       "    <tr>\n",
       "      <th>341420</th>\n",
       "      <td>7062c92a631731e7189cf3dddb20aceeae91a883e14229...</td>\n",
       "      <td>2019-02-27</td>\n",
       "      <td>2019-02-28</td>\n",
       "      <td>2019-03-01</td>\n",
       "      <td>2</td>\n",
       "      <td>4</td>\n",
       "      <td>2</td>\n",
       "      <td>0</td>\n",
       "      <td>45</td>\n",
       "      <td>1</td>\n",
       "      <td>...</td>\n",
       "      <td>10.0</td>\n",
       "      <td>1</td>\n",
       "      <td>2</td>\n",
       "      <td>D</td>\n",
       "      <td>1</td>\n",
       "      <td>42d7b97ad0d345da57a4010157729286418481f3d7ad24...</td>\n",
       "      <td>E</td>\n",
       "      <td>A</td>\n",
       "      <td>c75cb66ae28d8ebc6eded002c28a8ba0d06d3a78c6b5cb...</td>\n",
       "      <td>8.186771</td>\n",
       "    </tr>\n",
       "    <tr>\n",
       "      <th>341421</th>\n",
       "      <td>18a5668c302c321dc2d42a48923ceff97af633c66d72ee...</td>\n",
       "      <td>2019-02-27</td>\n",
       "      <td>2019-02-27</td>\n",
       "      <td>2019-02-28</td>\n",
       "      <td>3</td>\n",
       "      <td>3</td>\n",
       "      <td>3</td>\n",
       "      <td>0</td>\n",
       "      <td>45</td>\n",
       "      <td>1</td>\n",
       "      <td>...</td>\n",
       "      <td>10.0</td>\n",
       "      <td>4</td>\n",
       "      <td>3</td>\n",
       "      <td>H</td>\n",
       "      <td>1</td>\n",
       "      <td>f393011a27daf3d1676417f48f44ad9ed3541285e71209...</td>\n",
       "      <td>F</td>\n",
       "      <td>A</td>\n",
       "      <td>4b227777d4dd1fc61c6f884f48641d02b4d121d3fd328c...</td>\n",
       "      <td>8.381939</td>\n",
       "    </tr>\n",
       "    <tr>\n",
       "      <th>341422</th>\n",
       "      <td>1cbe1611a122023d7e994b4cf51fcf28ce44acdbcabbfb...</td>\n",
       "      <td>2019-02-27</td>\n",
       "      <td>2019-02-28</td>\n",
       "      <td>2019-03-01</td>\n",
       "      <td>1</td>\n",
       "      <td>3</td>\n",
       "      <td>5</td>\n",
       "      <td>0</td>\n",
       "      <td>47</td>\n",
       "      <td>2</td>\n",
       "      <td>...</td>\n",
       "      <td>8.0</td>\n",
       "      <td>2</td>\n",
       "      <td>3</td>\n",
       "      <td>B</td>\n",
       "      <td>1</td>\n",
       "      <td>b14649c29eb050f4e9b69c7a3afb5dfa00d12dabfd2e40...</td>\n",
       "      <td>D</td>\n",
       "      <td>A</td>\n",
       "      <td>6208ef0f7750c111548cf90b6ea1d0d0a66f6bff40dbef...</td>\n",
       "      <td>8.856035</td>\n",
       "    </tr>\n",
       "    <tr>\n",
       "      <th>341423</th>\n",
       "      <td>8712dd3ce2e36f2fbcd16b24aa3b89bd1c5203a39e578b...</td>\n",
       "      <td>2019-02-28</td>\n",
       "      <td>2019-03-01</td>\n",
       "      <td>2019-03-02</td>\n",
       "      <td>3</td>\n",
       "      <td>3</td>\n",
       "      <td>2</td>\n",
       "      <td>0</td>\n",
       "      <td>45</td>\n",
       "      <td>2</td>\n",
       "      <td>...</td>\n",
       "      <td>8.0</td>\n",
       "      <td>7</td>\n",
       "      <td>5</td>\n",
       "      <td>B</td>\n",
       "      <td>2</td>\n",
       "      <td>2a3936f649eb6af2167f41fb6f0cc9f352d142125f402f...</td>\n",
       "      <td>C</td>\n",
       "      <td>A</td>\n",
       "      <td>9400f1b21cb527d7fa3d3eabba93557a18ebe7a2ca4e47...</td>\n",
       "      <td>7.864627</td>\n",
       "    </tr>\n",
       "  </tbody>\n",
       "</table>\n",
       "<p>5 rows × 24 columns</p>\n",
       "</div>"
      ],
      "text/plain": [
       "                                           reservation_id booking_date  \\\n",
       "341419  a804d59b74b1d532a90740ded80dd05873bbef125bc349...   2019-02-11   \n",
       "341420  7062c92a631731e7189cf3dddb20aceeae91a883e14229...   2019-02-27   \n",
       "341421  18a5668c302c321dc2d42a48923ceff97af633c66d72ee...   2019-02-27   \n",
       "341422  1cbe1611a122023d7e994b4cf51fcf28ce44acdbcabbfb...   2019-02-27   \n",
       "341423  8712dd3ce2e36f2fbcd16b24aa3b89bd1c5203a39e578b...   2019-02-28   \n",
       "\n",
       "       checkin_date checkout_date  channel_code  main_product_code  \\\n",
       "341419   2019-02-27    2019-03-01             2                  2   \n",
       "341420   2019-02-28    2019-03-01             2                  4   \n",
       "341421   2019-02-27    2019-02-28             3                  3   \n",
       "341422   2019-02-28    2019-03-01             1                  3   \n",
       "341423   2019-03-01    2019-03-02             3                  3   \n",
       "\n",
       "        numberofadults  numberofchildren  persontravellingid  \\\n",
       "341419               4                 0                  47   \n",
       "341420               2                 0                  45   \n",
       "341421               3                 0                  45   \n",
       "341422               5                 0                  47   \n",
       "341423               2                 0                  45   \n",
       "\n",
       "        resort_region_code  ...  state_code_residence  state_code_resort  \\\n",
       "341419                   1  ...                   8.0                  1   \n",
       "341420                   1  ...                  10.0                  1   \n",
       "341421                   1  ...                  10.0                  4   \n",
       "341422                   2  ...                   8.0                  2   \n",
       "341423                   2  ...                   8.0                  7   \n",
       "\n",
       "        total_pax  member_age_buckets  booking_type_code  \\\n",
       "341419          2                   I                  1   \n",
       "341420          2                   D                  1   \n",
       "341421          3                   H                  1   \n",
       "341422          3                   B                  1   \n",
       "341423          5                   B                  2   \n",
       "\n",
       "                                                 memberid  cluster_code  \\\n",
       "341419  0095e00c6dae789d37628bd85697e53c423231337994c4...             E   \n",
       "341420  42d7b97ad0d345da57a4010157729286418481f3d7ad24...             E   \n",
       "341421  f393011a27daf3d1676417f48f44ad9ed3541285e71209...             F   \n",
       "341422  b14649c29eb050f4e9b69c7a3afb5dfa00d12dabfd2e40...             D   \n",
       "341423  2a3936f649eb6af2167f41fb6f0cc9f352d142125f402f...             C   \n",
       "\n",
       "       reservationstatusid_code  \\\n",
       "341419                        A   \n",
       "341420                        A   \n",
       "341421                        A   \n",
       "341422                        A   \n",
       "341423                        A   \n",
       "\n",
       "                                                resort_id  \\\n",
       "341419  c6f3ac57944a531490cd39902d0f777715fd005efac9a3...   \n",
       "341420  c75cb66ae28d8ebc6eded002c28a8ba0d06d3a78c6b5cb...   \n",
       "341421  4b227777d4dd1fc61c6f884f48641d02b4d121d3fd328c...   \n",
       "341422  6208ef0f7750c111548cf90b6ea1d0d0a66f6bff40dbef...   \n",
       "341423  9400f1b21cb527d7fa3d3eabba93557a18ebe7a2ca4e47...   \n",
       "\n",
       "       amount_spent_per_room_night_scaled  \n",
       "341419                           5.918087  \n",
       "341420                           8.186771  \n",
       "341421                           8.381939  \n",
       "341422                           8.856035  \n",
       "341423                           7.864627  \n",
       "\n",
       "[5 rows x 24 columns]"
      ]
     },
     "execution_count": 7,
     "metadata": {},
     "output_type": "execute_result"
    }
   ],
   "source": [
    "# last 5 rows of train\n",
    "train_df.tail()"
   ]
  },
  {
   "cell_type": "code",
   "execution_count": 8,
   "metadata": {},
   "outputs": [
    {
     "name": "stdout",
     "output_type": "stream",
     "text": [
      "shape of the data set \n",
      " train -> (341424, 24) \n",
      " test -> (146765, 23)\n"
     ]
    }
   ],
   "source": [
    "print (\"shape of the data set \\n train -> {} \\n test -> {}\".format(train_df.shape,test_df.shape))"
   ]
  },
  {
   "cell_type": "code",
   "execution_count": 9,
   "metadata": {},
   "outputs": [],
   "source": [
    "#copy the columns names\n",
    "train_df_cols = list(train_df)\n",
    "test_df_cols = list(test_df)\n",
    "\n",
    "#copy the unique id of test data test id\n",
    "test_id = test_df['reservation_id']\n"
   ]
  },
  {
   "cell_type": "code",
   "execution_count": 10,
   "metadata": {},
   "outputs": [
    {
     "data": {
      "text/plain": [
       "reservation_id                           0\n",
       "booking_date                             0\n",
       "checkin_date                             0\n",
       "checkout_date                            0\n",
       "channel_code                             0\n",
       "main_product_code                        0\n",
       "numberofadults                           0\n",
       "numberofchildren                         0\n",
       "persontravellingid                       0\n",
       "resort_region_code                       0\n",
       "resort_type_code                         0\n",
       "room_type_booked_code                    0\n",
       "roomnights                               0\n",
       "season_holidayed_code                  114\n",
       "state_code_residence                  4764\n",
       "state_code_resort                        0\n",
       "total_pax                                0\n",
       "member_age_buckets                       0\n",
       "booking_type_code                        0\n",
       "memberid                                 0\n",
       "cluster_code                             0\n",
       "reservationstatusid_code                 0\n",
       "resort_id                                0\n",
       "amount_spent_per_room_night_scaled       0\n",
       "dtype: int64"
      ]
     },
     "execution_count": 10,
     "metadata": {},
     "output_type": "execute_result"
    }
   ],
   "source": [
    "# check for NAs\n",
    "train_df.isna().sum()"
   ]
  },
  {
   "cell_type": "code",
   "execution_count": 11,
   "metadata": {},
   "outputs": [
    {
     "data": {
      "text/plain": [
       "reservation_id                 0\n",
       "booking_date                   0\n",
       "checkin_date                   0\n",
       "checkout_date                  0\n",
       "channel_code                   0\n",
       "main_product_code              0\n",
       "numberofadults                 0\n",
       "numberofchildren               0\n",
       "persontravellingid             0\n",
       "resort_region_code             0\n",
       "resort_type_code               0\n",
       "room_type_booked_code          0\n",
       "roomnights                     0\n",
       "season_holidayed_code         35\n",
       "state_code_residence        2260\n",
       "state_code_resort              0\n",
       "total_pax                      0\n",
       "member_age_buckets             0\n",
       "booking_type_code              0\n",
       "memberid                       0\n",
       "cluster_code                   0\n",
       "reservationstatusid_code       0\n",
       "resort_id                      0\n",
       "dtype: int64"
      ]
     },
     "execution_count": 11,
     "metadata": {},
     "output_type": "execute_result"
    }
   ],
   "source": [
    "test_df.isna().sum()"
   ]
  },
  {
   "cell_type": "markdown",
   "metadata": {},
   "source": [
    "## Imputation of NAs will be done later"
   ]
  },
  {
   "cell_type": "code",
   "execution_count": 12,
   "metadata": {},
   "outputs": [
    {
     "data": {
      "text/plain": [
       "reservation_id                                object\n",
       "booking_date                          datetime64[ns]\n",
       "checkin_date                          datetime64[ns]\n",
       "checkout_date                         datetime64[ns]\n",
       "channel_code                                   int64\n",
       "main_product_code                              int64\n",
       "numberofadults                                 int64\n",
       "numberofchildren                               int64\n",
       "persontravellingid                             int64\n",
       "resort_region_code                             int64\n",
       "resort_type_code                               int64\n",
       "room_type_booked_code                          int64\n",
       "roomnights                                     int64\n",
       "season_holidayed_code                        float64\n",
       "state_code_residence                         float64\n",
       "state_code_resort                              int64\n",
       "total_pax                                      int64\n",
       "member_age_buckets                            object\n",
       "booking_type_code                              int64\n",
       "memberid                                      object\n",
       "cluster_code                                  object\n",
       "reservationstatusid_code                      object\n",
       "resort_id                                     object\n",
       "amount_spent_per_room_night_scaled           float64\n",
       "dtype: object"
      ]
     },
     "execution_count": 12,
     "metadata": {},
     "output_type": "execute_result"
    }
   ],
   "source": [
    "train_df.dtypes"
   ]
  },
  {
   "cell_type": "code",
   "execution_count": 13,
   "metadata": {},
   "outputs": [
    {
     "data": {
      "text/plain": [
       "<matplotlib.axes._subplots.AxesSubplot at 0x213c4ae2b00>"
      ]
     },
     "execution_count": 13,
     "metadata": {},
     "output_type": "execute_result"
    }
   ],
   "source": [
    "# check for correlation\n",
    "import seaborn as sns\n",
    "\n",
    "sns.heatmap(train_df.corr())"
   ]
  },
  {
   "cell_type": "code",
   "execution_count": 14,
   "metadata": {
    "scrolled": true
   },
   "outputs": [
    {
     "data": {
      "text/plain": [
       "<matplotlib.axes._subplots.AxesSubplot at 0x213c4d3efd0>"
      ]
     },
     "execution_count": 14,
     "metadata": {},
     "output_type": "execute_result"
    },
    {
     "data": {
      "image/png": "[encoded data removed]",
      "text/plain": [
       "<Figure size 432x288 with 1 Axes>"
      ]
     },
     "metadata": {
      "needs_background": "light"
     },
     "output_type": "display_data"
    }
   ],
   "source": [
    "# roomnights vs number of adults\n",
    "sns.scatterplot(x=\"numberofadults\", y=\"roomnights\", data=train_df, alpha=0.1,)"
   ]
  },
  {
   "cell_type": "markdown",
   "metadata": {},
   "source": [
    "#### It doesen't looks like having any trend "
   ]
  },
  {
   "cell_type": "code",
   "execution_count": 15,
   "metadata": {},
   "outputs": [
    {
     "data": {
      "text/plain": [
       "<matplotlib.axes._subplots.AxesSubplot at 0x213c4dbd7f0>"
      ]
     },
     "execution_count": 15,
     "metadata": {},
     "output_type": "execute_result"
    },
    {
     "data": {
      "image/png": "[encoded data removed]",
      "text/plain": [
       "<Figure size 432x288 with 1 Axes>"
      ]
     },
     "metadata": {
      "needs_background": "light"
     },
     "output_type": "display_data"
    }
   ],
   "source": [
    "# room_type vs total person\n",
    "sns.scatterplot(y=\"room_type_booked_code\", x=\"total_pax\", data=train_df, alpha=0.5,)"
   ]
  },
  {
   "cell_type": "code",
   "execution_count": 16,
   "metadata": {},
   "outputs": [
    {
     "data": {
      "text/html": [
       "<div>\n",
       "<style scoped>\n",
       "    .dataframe tbody tr th:only-of-type {\n",
       "        vertical-align: middle;\n",
       "    }\n",
       "\n",
       "    .dataframe tbody tr th {\n",
       "        vertical-align: top;\n",
       "    }\n",
       "\n",
       "    .dataframe thead th {\n",
       "        text-align: right;\n",
       "    }\n",
       "</style>\n",
       "<table border=\"1\" class=\"dataframe\">\n",
       "  <thead>\n",
       "    <tr style=\"text-align: right;\">\n",
       "      <th></th>\n",
       "      <th>count</th>\n",
       "      <th>mean</th>\n",
       "      <th>std</th>\n",
       "      <th>min</th>\n",
       "      <th>25%</th>\n",
       "      <th>50%</th>\n",
       "      <th>75%</th>\n",
       "      <th>max</th>\n",
       "    </tr>\n",
       "  </thead>\n",
       "  <tbody>\n",
       "    <tr>\n",
       "      <th>channel_code</th>\n",
       "      <td>341424.0</td>\n",
       "      <td>1.902810</td>\n",
       "      <td>0.915311</td>\n",
       "      <td>1.0</td>\n",
       "      <td>1.0</td>\n",
       "      <td>2.0</td>\n",
       "      <td>3.0</td>\n",
       "      <td>3.0</td>\n",
       "    </tr>\n",
       "    <tr>\n",
       "      <th>main_product_code</th>\n",
       "      <td>341424.0</td>\n",
       "      <td>2.208738</td>\n",
       "      <td>0.823779</td>\n",
       "      <td>1.0</td>\n",
       "      <td>2.0</td>\n",
       "      <td>2.0</td>\n",
       "      <td>3.0</td>\n",
       "      <td>7.0</td>\n",
       "    </tr>\n",
       "    <tr>\n",
       "      <th>numberofadults</th>\n",
       "      <td>341424.0</td>\n",
       "      <td>3.275361</td>\n",
       "      <td>1.756062</td>\n",
       "      <td>0.0</td>\n",
       "      <td>2.0</td>\n",
       "      <td>3.0</td>\n",
       "      <td>4.0</td>\n",
       "      <td>32.0</td>\n",
       "    </tr>\n",
       "    <tr>\n",
       "      <th>numberofchildren</th>\n",
       "      <td>341424.0</td>\n",
       "      <td>0.362696</td>\n",
       "      <td>0.758019</td>\n",
       "      <td>0.0</td>\n",
       "      <td>0.0</td>\n",
       "      <td>0.0</td>\n",
       "      <td>0.0</td>\n",
       "      <td>13.0</td>\n",
       "    </tr>\n",
       "    <tr>\n",
       "      <th>persontravellingid</th>\n",
       "      <td>341424.0</td>\n",
       "      <td>210.288905</td>\n",
       "      <td>865.735577</td>\n",
       "      <td>45.0</td>\n",
       "      <td>45.0</td>\n",
       "      <td>45.0</td>\n",
       "      <td>45.0</td>\n",
       "      <td>4995.0</td>\n",
       "    </tr>\n",
       "    <tr>\n",
       "      <th>resort_region_code</th>\n",
       "      <td>341424.0</td>\n",
       "      <td>1.772960</td>\n",
       "      <td>0.750806</td>\n",
       "      <td>1.0</td>\n",
       "      <td>1.0</td>\n",
       "      <td>2.0</td>\n",
       "      <td>2.0</td>\n",
       "      <td>3.0</td>\n",
       "    </tr>\n",
       "    <tr>\n",
       "      <th>resort_type_code</th>\n",
       "      <td>341424.0</td>\n",
       "      <td>2.193832</td>\n",
       "      <td>1.551451</td>\n",
       "      <td>0.0</td>\n",
       "      <td>1.0</td>\n",
       "      <td>2.0</td>\n",
       "      <td>3.0</td>\n",
       "      <td>7.0</td>\n",
       "    </tr>\n",
       "    <tr>\n",
       "      <th>room_type_booked_code</th>\n",
       "      <td>341424.0</td>\n",
       "      <td>2.890321</td>\n",
       "      <td>0.804260</td>\n",
       "      <td>1.0</td>\n",
       "      <td>2.0</td>\n",
       "      <td>3.0</td>\n",
       "      <td>3.0</td>\n",
       "      <td>6.0</td>\n",
       "    </tr>\n",
       "    <tr>\n",
       "      <th>roomnights</th>\n",
       "      <td>341424.0</td>\n",
       "      <td>3.738346</td>\n",
       "      <td>2.479054</td>\n",
       "      <td>-45.0</td>\n",
       "      <td>2.0</td>\n",
       "      <td>3.0</td>\n",
       "      <td>4.0</td>\n",
       "      <td>60.0</td>\n",
       "    </tr>\n",
       "    <tr>\n",
       "      <th>state_code_resort</th>\n",
       "      <td>341424.0</td>\n",
       "      <td>4.763303</td>\n",
       "      <td>3.103909</td>\n",
       "      <td>1.0</td>\n",
       "      <td>2.0</td>\n",
       "      <td>5.0</td>\n",
       "      <td>7.0</td>\n",
       "      <td>13.0</td>\n",
       "    </tr>\n",
       "    <tr>\n",
       "      <th>total_pax</th>\n",
       "      <td>341424.0</td>\n",
       "      <td>3.193390</td>\n",
       "      <td>1.167824</td>\n",
       "      <td>0.0</td>\n",
       "      <td>2.0</td>\n",
       "      <td>3.0</td>\n",
       "      <td>4.0</td>\n",
       "      <td>24.0</td>\n",
       "    </tr>\n",
       "    <tr>\n",
       "      <th>booking_type_code</th>\n",
       "      <td>341424.0</td>\n",
       "      <td>1.124209</td>\n",
       "      <td>0.329821</td>\n",
       "      <td>1.0</td>\n",
       "      <td>1.0</td>\n",
       "      <td>1.0</td>\n",
       "      <td>1.0</td>\n",
       "      <td>2.0</td>\n",
       "    </tr>\n",
       "  </tbody>\n",
       "</table>\n",
       "</div>"
      ],
      "text/plain": [
       "                          count        mean         std   min   25%   50%  \\\n",
       "channel_code           341424.0    1.902810    0.915311   1.0   1.0   2.0   \n",
       "main_product_code      341424.0    2.208738    0.823779   1.0   2.0   2.0   \n",
       "numberofadults         341424.0    3.275361    1.756062   0.0   2.0   3.0   \n",
       "numberofchildren       341424.0    0.362696    0.758019   0.0   0.0   0.0   \n",
       "persontravellingid     341424.0  210.288905  865.735577  45.0  45.0  45.0   \n",
       "resort_region_code     341424.0    1.772960    0.750806   1.0   1.0   2.0   \n",
       "resort_type_code       341424.0    2.193832    1.551451   0.0   1.0   2.0   \n",
       "room_type_booked_code  341424.0    2.890321    0.804260   1.0   2.0   3.0   \n",
       "roomnights             341424.0    3.738346    2.479054 -45.0   2.0   3.0   \n",
       "state_code_resort      341424.0    4.763303    3.103909   1.0   2.0   5.0   \n",
       "total_pax              341424.0    3.193390    1.167824   0.0   2.0   3.0   \n",
       "booking_type_code      341424.0    1.124209    0.329821   1.0   1.0   1.0   \n",
       "\n",
       "                        75%     max  \n",
       "channel_code            3.0     3.0  \n",
       "main_product_code       3.0     7.0  \n",
       "numberofadults          4.0    32.0  \n",
       "numberofchildren        0.0    13.0  \n",
       "persontravellingid     45.0  4995.0  \n",
       "resort_region_code      2.0     3.0  \n",
       "resort_type_code        3.0     7.0  \n",
       "room_type_booked_code   3.0     6.0  \n",
       "roomnights              4.0    60.0  \n",
       "state_code_resort       7.0    13.0  \n",
       "total_pax               4.0    24.0  \n",
       "booking_type_code       1.0     2.0  "
      ]
     },
     "execution_count": 16,
     "metadata": {},
     "output_type": "execute_result"
    }
   ],
   "source": [
    "train_df.describe(include=\"int64\").transpose()"
   ]
  },
  {
   "cell_type": "code",
   "execution_count": 17,
   "metadata": {},
   "outputs": [
    {
     "name": "stdout",
     "output_type": "stream",
     "text": [
      "Unique persontravellingid in train data\n",
      " [  46   47   45 4752 4753 4995]\n",
      "Number of unique persontravellingid in train data\n",
      " 6\n",
      "Unique persontravellingid in test data\n",
      " [  45   47 4752   46 4753 4995]\n",
      "Number of unique persontravellingid in test data\n",
      " 6\n",
      "\n",
      "________________________________________\n",
      "\n",
      "Unique roomnights in train data\n",
      " [  1   5   4   2   6   3   8  12  16   9   7  10  14  15  11  22  18  25\n",
      "  20  13  21  26  34  17  24  37  27  39  28 -45  19  23  29  30  36  60\n",
      "  33  42  31  35  32   0  47  41]\n",
      "Number of unique roomnights in train data\n",
      " 44\n",
      "Unique roomnights in test data\n",
      " [ 1  8  3  4  2  5  6  7 12 20 10 15  9 16 25 18 14 24 17 11 32 21 13 28\n",
      " 36 30 39 19 80 40 48 22 23 33 27 26  0 35 44]\n",
      "Number of unique roomnights in test data\n",
      " 39\n"
     ]
    }
   ],
   "source": [
    "# check for unique values in int64 datatypes\n",
    "print(\"Unique persontravellingid in train data\\n\", train_df.persontravellingid.unique())\n",
    "print(\"Number of unique persontravellingid in train data\\n\", len(train_df.persontravellingid.unique()))\n",
    "\n",
    "print(\"Unique persontravellingid in test data\\n\", test_df.persontravellingid.unique())\n",
    "print(\"Number of unique persontravellingid in test data\\n\", len(test_df.persontravellingid.unique()))\n",
    "\n",
    "print(\"\\n________________________________________\\n\")\n",
    "\n",
    "print(\"Unique roomnights in train data\\n\", train_df.roomnights.unique())\n",
    "print(\"Number of unique roomnights in train data\\n\", len(train_df.roomnights.unique()))\n",
    "\n",
    "print(\"Unique roomnights in test data\\n\", test_df.roomnights.unique())\n",
    "print(\"Number of unique roomnights in test data\\n\", len(test_df.roomnights.unique()))"
   ]
  },
  {
   "cell_type": "markdown",
   "metadata": {},
   "source": [
    "#### Lets drop roomnights as it doesnt has unique values in train and test data for simplicity\n"
   ]
  },
  {
   "cell_type": "code",
   "execution_count": 18,
   "metadata": {},
   "outputs": [
    {
     "name": "stdout",
     "output_type": "stream",
     "text": [
      "(341424, 23)\n",
      "(146765, 22)\n"
     ]
    }
   ],
   "source": [
    "# drop roomnights column\n",
    "\n",
    "#train\n",
    "train_df = train_df.drop(\"roomnights\",1)\n",
    "print(train_df.shape)\n",
    "\n",
    "#test\n",
    "test_df = test_df.drop(\"roomnights\",1)\n",
    "print(test_df.shape)"
   ]
  },
  {
   "cell_type": "raw",
   "metadata": {},
   "source": []
  },
  {
   "cell_type": "code",
   "execution_count": 19,
   "metadata": {},
   "outputs": [
    {
     "data": {
      "text/html": [
       "<div>\n",
       "<style scoped>\n",
       "    .dataframe tbody tr th:only-of-type {\n",
       "        vertical-align: middle;\n",
       "    }\n",
       "\n",
       "    .dataframe tbody tr th {\n",
       "        vertical-align: top;\n",
       "    }\n",
       "\n",
       "    .dataframe thead th {\n",
       "        text-align: right;\n",
       "    }\n",
       "</style>\n",
       "<table border=\"1\" class=\"dataframe\">\n",
       "  <thead>\n",
       "    <tr style=\"text-align: right;\">\n",
       "      <th></th>\n",
       "      <th>count</th>\n",
       "      <th>mean</th>\n",
       "      <th>std</th>\n",
       "      <th>min</th>\n",
       "      <th>25%</th>\n",
       "      <th>50%</th>\n",
       "      <th>75%</th>\n",
       "      <th>max</th>\n",
       "    </tr>\n",
       "  </thead>\n",
       "  <tbody>\n",
       "    <tr>\n",
       "      <th>season_holidayed_code</th>\n",
       "      <td>341310.0</td>\n",
       "      <td>2.673862</td>\n",
       "      <td>0.885650</td>\n",
       "      <td>1.000000</td>\n",
       "      <td>2.00000</td>\n",
       "      <td>3.000000</td>\n",
       "      <td>3.000000</td>\n",
       "      <td>4.000000</td>\n",
       "    </tr>\n",
       "    <tr>\n",
       "      <th>state_code_residence</th>\n",
       "      <td>336660.0</td>\n",
       "      <td>7.260708</td>\n",
       "      <td>4.701283</td>\n",
       "      <td>1.000000</td>\n",
       "      <td>4.00000</td>\n",
       "      <td>8.000000</td>\n",
       "      <td>8.000000</td>\n",
       "      <td>38.000000</td>\n",
       "    </tr>\n",
       "    <tr>\n",
       "      <th>amount_spent_per_room_night_scaled</th>\n",
       "      <td>341424.0</td>\n",
       "      <td>7.720801</td>\n",
       "      <td>1.090109</td>\n",
       "      <td>1.600397</td>\n",
       "      <td>7.18726</td>\n",
       "      <td>7.860814</td>\n",
       "      <td>8.419144</td>\n",
       "      <td>10.816652</td>\n",
       "    </tr>\n",
       "  </tbody>\n",
       "</table>\n",
       "</div>"
      ],
      "text/plain": [
       "                                       count      mean       std       min  \\\n",
       "season_holidayed_code               341310.0  2.673862  0.885650  1.000000   \n",
       "state_code_residence                336660.0  7.260708  4.701283  1.000000   \n",
       "amount_spent_per_room_night_scaled  341424.0  7.720801  1.090109  1.600397   \n",
       "\n",
       "                                        25%       50%       75%        max  \n",
       "season_holidayed_code               2.00000  3.000000  3.000000   4.000000  \n",
       "state_code_residence                4.00000  8.000000  8.000000  38.000000  \n",
       "amount_spent_per_room_night_scaled  7.18726  7.860814  8.419144  10.816652  "
      ]
     },
     "execution_count": 19,
     "metadata": {},
     "output_type": "execute_result"
    }
   ],
   "source": [
    "# Summary stats of float variables\n",
    "\n",
    "train_df.describe(include=\"float64\").transpose()"
   ]
  },
  {
   "cell_type": "code",
   "execution_count": 20,
   "metadata": {},
   "outputs": [],
   "source": [
    "#train_df[\"season_holidayed_code\"] = train_df[\"season_holidayed_code\"].astype(\"int64\")\n",
    "#train_df[\"state_code_residence\"] = train_df[\"state_code_residence\"].astype(\"int64\")"
   ]
  },
  {
   "cell_type": "code",
   "execution_count": 21,
   "metadata": {},
   "outputs": [],
   "source": [
    "#train_df.describe(include=\"int64\").transpose()"
   ]
  },
  {
   "cell_type": "code",
   "execution_count": 22,
   "metadata": {},
   "outputs": [],
   "source": [
    "# convert datatype to category\n",
    "int_cols = train_df.describe(include=\"int64\").columns \n",
    "float_cols =train_df.describe(include=\"float64\").columns\n",
    "\n",
    "cat_cols  = list(int_cols.append(float_cols[:-1]))\n",
    "#cat_cols = int_cols\n",
    "for i in cat_cols:\n",
    "    #train_df[i]=train_df[i].astype(\"int64\")\n",
    "    train_df[i]=train_df[i].astype(\"category\")\n",
    "    test_df[i]=test_df[i].astype(\"category\")"
   ]
  },
  {
   "cell_type": "code",
   "execution_count": 23,
   "metadata": {},
   "outputs": [
    {
     "data": {
      "text/plain": [
       "channel_code             category\n",
       "main_product_code        category\n",
       "numberofadults           category\n",
       "numberofchildren         category\n",
       "persontravellingid       category\n",
       "resort_region_code       category\n",
       "resort_type_code         category\n",
       "room_type_booked_code    category\n",
       "state_code_resort        category\n",
       "total_pax                category\n",
       "booking_type_code        category\n",
       "season_holidayed_code    category\n",
       "state_code_residence     category\n",
       "dtype: object"
      ]
     },
     "execution_count": 23,
     "metadata": {},
     "output_type": "execute_result"
    }
   ],
   "source": [
    "train_df[cat_cols].dtypes"
   ]
  },
  {
   "cell_type": "code",
   "execution_count": 24,
   "metadata": {},
   "outputs": [
    {
     "data": {
      "text/plain": [
       "channel_code             category\n",
       "main_product_code        category\n",
       "numberofadults           category\n",
       "numberofchildren         category\n",
       "persontravellingid       category\n",
       "resort_region_code       category\n",
       "resort_type_code         category\n",
       "room_type_booked_code    category\n",
       "state_code_resort        category\n",
       "total_pax                category\n",
       "booking_type_code        category\n",
       "season_holidayed_code    category\n",
       "state_code_residence     category\n",
       "dtype: object"
      ]
     },
     "execution_count": 24,
     "metadata": {},
     "output_type": "execute_result"
    }
   ],
   "source": [
    "test_df[cat_cols].dtypes"
   ]
  },
  {
   "cell_type": "code",
   "execution_count": 25,
   "metadata": {},
   "outputs": [
    {
     "data": {
      "text/html": [
       "<div>\n",
       "<style scoped>\n",
       "    .dataframe tbody tr th:only-of-type {\n",
       "        vertical-align: middle;\n",
       "    }\n",
       "\n",
       "    .dataframe tbody tr th {\n",
       "        vertical-align: top;\n",
       "    }\n",
       "\n",
       "    .dataframe thead th {\n",
       "        text-align: right;\n",
       "    }\n",
       "</style>\n",
       "<table border=\"1\" class=\"dataframe\">\n",
       "  <thead>\n",
       "    <tr style=\"text-align: right;\">\n",
       "      <th></th>\n",
       "      <th>count</th>\n",
       "      <th>unique</th>\n",
       "      <th>top</th>\n",
       "      <th>freq</th>\n",
       "    </tr>\n",
       "  </thead>\n",
       "  <tbody>\n",
       "    <tr>\n",
       "      <th>channel_code</th>\n",
       "      <td>341424.0</td>\n",
       "      <td>3.0</td>\n",
       "      <td>1.0</td>\n",
       "      <td>161225.0</td>\n",
       "    </tr>\n",
       "    <tr>\n",
       "      <th>main_product_code</th>\n",
       "      <td>341424.0</td>\n",
       "      <td>5.0</td>\n",
       "      <td>2.0</td>\n",
       "      <td>177615.0</td>\n",
       "    </tr>\n",
       "    <tr>\n",
       "      <th>numberofadults</th>\n",
       "      <td>341424.0</td>\n",
       "      <td>28.0</td>\n",
       "      <td>2.0</td>\n",
       "      <td>149414.0</td>\n",
       "    </tr>\n",
       "    <tr>\n",
       "      <th>numberofchildren</th>\n",
       "      <td>341424.0</td>\n",
       "      <td>12.0</td>\n",
       "      <td>0.0</td>\n",
       "      <td>264250.0</td>\n",
       "    </tr>\n",
       "    <tr>\n",
       "      <th>persontravellingid</th>\n",
       "      <td>341424.0</td>\n",
       "      <td>6.0</td>\n",
       "      <td>45.0</td>\n",
       "      <td>267307.0</td>\n",
       "    </tr>\n",
       "    <tr>\n",
       "      <th>resort_region_code</th>\n",
       "      <td>341424.0</td>\n",
       "      <td>3.0</td>\n",
       "      <td>1.0</td>\n",
       "      <td>143790.0</td>\n",
       "    </tr>\n",
       "    <tr>\n",
       "      <th>resort_type_code</th>\n",
       "      <td>341424.0</td>\n",
       "      <td>7.0</td>\n",
       "      <td>1.0</td>\n",
       "      <td>154324.0</td>\n",
       "    </tr>\n",
       "    <tr>\n",
       "      <th>room_type_booked_code</th>\n",
       "      <td>341424.0</td>\n",
       "      <td>6.0</td>\n",
       "      <td>3.0</td>\n",
       "      <td>137439.0</td>\n",
       "    </tr>\n",
       "    <tr>\n",
       "      <th>season_holidayed_code</th>\n",
       "      <td>341310.0</td>\n",
       "      <td>4.0</td>\n",
       "      <td>2.0</td>\n",
       "      <td>126771.0</td>\n",
       "    </tr>\n",
       "    <tr>\n",
       "      <th>state_code_residence</th>\n",
       "      <td>336660.0</td>\n",
       "      <td>37.0</td>\n",
       "      <td>8.0</td>\n",
       "      <td>134919.0</td>\n",
       "    </tr>\n",
       "    <tr>\n",
       "      <th>state_code_resort</th>\n",
       "      <td>341424.0</td>\n",
       "      <td>11.0</td>\n",
       "      <td>1.0</td>\n",
       "      <td>59830.0</td>\n",
       "    </tr>\n",
       "    <tr>\n",
       "      <th>total_pax</th>\n",
       "      <td>341424.0</td>\n",
       "      <td>18.0</td>\n",
       "      <td>2.0</td>\n",
       "      <td>106046.0</td>\n",
       "    </tr>\n",
       "    <tr>\n",
       "      <th>booking_type_code</th>\n",
       "      <td>341424.0</td>\n",
       "      <td>2.0</td>\n",
       "      <td>1.0</td>\n",
       "      <td>299016.0</td>\n",
       "    </tr>\n",
       "  </tbody>\n",
       "</table>\n",
       "</div>"
      ],
      "text/plain": [
       "                          count  unique   top      freq\n",
       "channel_code           341424.0     3.0   1.0  161225.0\n",
       "main_product_code      341424.0     5.0   2.0  177615.0\n",
       "numberofadults         341424.0    28.0   2.0  149414.0\n",
       "numberofchildren       341424.0    12.0   0.0  264250.0\n",
       "persontravellingid     341424.0     6.0  45.0  267307.0\n",
       "resort_region_code     341424.0     3.0   1.0  143790.0\n",
       "resort_type_code       341424.0     7.0   1.0  154324.0\n",
       "room_type_booked_code  341424.0     6.0   3.0  137439.0\n",
       "season_holidayed_code  341310.0     4.0   2.0  126771.0\n",
       "state_code_residence   336660.0    37.0   8.0  134919.0\n",
       "state_code_resort      341424.0    11.0   1.0   59830.0\n",
       "total_pax              341424.0    18.0   2.0  106046.0\n",
       "booking_type_code      341424.0     2.0   1.0  299016.0"
      ]
     },
     "execution_count": 25,
     "metadata": {},
     "output_type": "execute_result"
    }
   ],
   "source": [
    "# Summary stats of Categorical variables\n",
    "train_df.describe(include=\"category\").transpose()"
   ]
  },
  {
   "cell_type": "code",
   "execution_count": 26,
   "metadata": {},
   "outputs": [
    {
     "data": {
      "text/html": [
       "<div>\n",
       "<style scoped>\n",
       "    .dataframe tbody tr th:only-of-type {\n",
       "        vertical-align: middle;\n",
       "    }\n",
       "\n",
       "    .dataframe tbody tr th {\n",
       "        vertical-align: top;\n",
       "    }\n",
       "\n",
       "    .dataframe thead th {\n",
       "        text-align: right;\n",
       "    }\n",
       "</style>\n",
       "<table border=\"1\" class=\"dataframe\">\n",
       "  <thead>\n",
       "    <tr style=\"text-align: right;\">\n",
       "      <th></th>\n",
       "      <th>count</th>\n",
       "      <th>unique</th>\n",
       "      <th>top</th>\n",
       "      <th>freq</th>\n",
       "    </tr>\n",
       "  </thead>\n",
       "  <tbody>\n",
       "    <tr>\n",
       "      <th>reservation_id</th>\n",
       "      <td>341424</td>\n",
       "      <td>341424</td>\n",
       "      <td>39e291dcdafe424daf0c4df68b0494069d3ea3e353af09...</td>\n",
       "      <td>1</td>\n",
       "    </tr>\n",
       "    <tr>\n",
       "      <th>member_age_buckets</th>\n",
       "      <td>341424</td>\n",
       "      <td>10</td>\n",
       "      <td>D</td>\n",
       "      <td>67618</td>\n",
       "    </tr>\n",
       "    <tr>\n",
       "      <th>memberid</th>\n",
       "      <td>341424</td>\n",
       "      <td>101327</td>\n",
       "      <td>81c5295dd0cd56d704882cd28c7c815658ba5796165b7d...</td>\n",
       "      <td>50</td>\n",
       "    </tr>\n",
       "    <tr>\n",
       "      <th>cluster_code</th>\n",
       "      <td>341424</td>\n",
       "      <td>6</td>\n",
       "      <td>F</td>\n",
       "      <td>120623</td>\n",
       "    </tr>\n",
       "    <tr>\n",
       "      <th>reservationstatusid_code</th>\n",
       "      <td>341424</td>\n",
       "      <td>4</td>\n",
       "      <td>A</td>\n",
       "      <td>312481</td>\n",
       "    </tr>\n",
       "    <tr>\n",
       "      <th>resort_id</th>\n",
       "      <td>341424</td>\n",
       "      <td>32</td>\n",
       "      <td>d4735e3a265e16eee03f59718b9b5d03019c07d8b6c51f...</td>\n",
       "      <td>35331</td>\n",
       "    </tr>\n",
       "  </tbody>\n",
       "</table>\n",
       "</div>"
      ],
      "text/plain": [
       "                           count  unique  \\\n",
       "reservation_id            341424  341424   \n",
       "member_age_buckets        341424      10   \n",
       "memberid                  341424  101327   \n",
       "cluster_code              341424       6   \n",
       "reservationstatusid_code  341424       4   \n",
       "resort_id                 341424      32   \n",
       "\n",
       "                                                                        top  \\\n",
       "reservation_id            39e291dcdafe424daf0c4df68b0494069d3ea3e353af09...   \n",
       "member_age_buckets                                                        D   \n",
       "memberid                  81c5295dd0cd56d704882cd28c7c815658ba5796165b7d...   \n",
       "cluster_code                                                              F   \n",
       "reservationstatusid_code                                                  A   \n",
       "resort_id                 d4735e3a265e16eee03f59718b9b5d03019c07d8b6c51f...   \n",
       "\n",
       "                            freq  \n",
       "reservation_id                 1  \n",
       "member_age_buckets         67618  \n",
       "memberid                      50  \n",
       "cluster_code              120623  \n",
       "reservationstatusid_code  312481  \n",
       "resort_id                  35331  "
      ]
     },
     "execution_count": 26,
     "metadata": {},
     "output_type": "execute_result"
    }
   ],
   "source": [
    "# Summary stats of Categorical variables\n",
    "train_df.describe(include=\"object\").transpose()"
   ]
  },
  {
   "cell_type": "code",
   "execution_count": 27,
   "metadata": {},
   "outputs": [
    {
     "data": {
      "text/plain": [
       "[]"
      ]
     },
     "execution_count": 27,
     "metadata": {},
     "output_type": "execute_result"
    }
   ],
   "source": [
    "# compare resot_id from train and test, if test data has any new resot_id\n",
    "x = [x for x in train_df.resort_id.unique() if x not in  test_df.resort_id.unique()]\n",
    "x"
   ]
  },
  {
   "cell_type": "markdown",
   "metadata": {},
   "source": [
    "As it is empty list, there are no new resot"
   ]
  },
  {
   "cell_type": "code",
   "execution_count": 28,
   "metadata": {},
   "outputs": [
    {
     "data": {
      "text/plain": [
       "member_age_buckets          category\n",
       "cluster_code                category\n",
       "reservationstatusid_code    category\n",
       "resort_id                   category\n",
       "dtype: object"
      ]
     },
     "execution_count": 28,
     "metadata": {},
     "output_type": "execute_result"
    }
   ],
   "source": [
    "# add these cols to cat_cols and convert dtype to \"category\"\n",
    "add_to_cat_cols = [\"member_age_buckets\",\"cluster_code\",\"reservationstatusid_code\",\"resort_id\"  ]\n",
    "\n",
    "for i in add_to_cat_cols:\n",
    "    train_df[i] = train_df[i].astype(\"category\")\n",
    "    test_df[i] = test_df[i].astype(\"category\")\n",
    "    \n",
    "\n",
    "train_df[add_to_cat_cols].dtypes"
   ]
  },
  {
   "cell_type": "code",
   "execution_count": 29,
   "metadata": {},
   "outputs": [
    {
     "data": {
      "text/plain": [
       "reservation_id                                object\n",
       "booking_date                          datetime64[ns]\n",
       "checkin_date                          datetime64[ns]\n",
       "checkout_date                         datetime64[ns]\n",
       "channel_code                                category\n",
       "main_product_code                           category\n",
       "numberofadults                              category\n",
       "numberofchildren                            category\n",
       "persontravellingid                          category\n",
       "resort_region_code                          category\n",
       "resort_type_code                            category\n",
       "room_type_booked_code                       category\n",
       "season_holidayed_code                       category\n",
       "state_code_residence                        category\n",
       "state_code_resort                           category\n",
       "total_pax                                   category\n",
       "member_age_buckets                          category\n",
       "booking_type_code                           category\n",
       "memberid                                      object\n",
       "cluster_code                                category\n",
       "reservationstatusid_code                    category\n",
       "resort_id                                   category\n",
       "amount_spent_per_room_night_scaled           float64\n",
       "dtype: object"
      ]
     },
     "execution_count": 29,
     "metadata": {},
     "output_type": "execute_result"
    }
   ],
   "source": [
    "train_df.dtypes"
   ]
  },
  {
   "cell_type": "code",
   "execution_count": 30,
   "metadata": {},
   "outputs": [
    {
     "data": {
      "text/plain": [
       "reservation_id                      object\n",
       "booking_date                datetime64[ns]\n",
       "checkin_date                datetime64[ns]\n",
       "checkout_date               datetime64[ns]\n",
       "channel_code                      category\n",
       "main_product_code                 category\n",
       "numberofadults                    category\n",
       "numberofchildren                  category\n",
       "persontravellingid                category\n",
       "resort_region_code                category\n",
       "resort_type_code                  category\n",
       "room_type_booked_code             category\n",
       "season_holidayed_code             category\n",
       "state_code_residence              category\n",
       "state_code_resort                 category\n",
       "total_pax                         category\n",
       "member_age_buckets                category\n",
       "booking_type_code                 category\n",
       "memberid                            object\n",
       "cluster_code                      category\n",
       "reservationstatusid_code          category\n",
       "resort_id                         category\n",
       "dtype: object"
      ]
     },
     "execution_count": 30,
     "metadata": {},
     "output_type": "execute_result"
    }
   ],
   "source": [
    "test_df.dtypes"
   ]
  },
  {
   "cell_type": "markdown",
   "metadata": {},
   "source": [
    "### fill NAs with mode"
   ]
  },
  {
   "cell_type": "code",
   "execution_count": 31,
   "metadata": {},
   "outputs": [
    {
     "data": {
      "text/plain": [
       "reservation_id                           0\n",
       "booking_date                             0\n",
       "checkin_date                             0\n",
       "checkout_date                            0\n",
       "channel_code                             0\n",
       "main_product_code                        0\n",
       "numberofadults                           0\n",
       "numberofchildren                         0\n",
       "persontravellingid                       0\n",
       "resort_region_code                       0\n",
       "resort_type_code                         0\n",
       "room_type_booked_code                    0\n",
       "season_holidayed_code                  114\n",
       "state_code_residence                  4764\n",
       "state_code_resort                        0\n",
       "total_pax                                0\n",
       "member_age_buckets                       0\n",
       "booking_type_code                        0\n",
       "memberid                                 0\n",
       "cluster_code                             0\n",
       "reservationstatusid_code                 0\n",
       "resort_id                                0\n",
       "amount_spent_per_room_night_scaled       0\n",
       "dtype: int64"
      ]
     },
     "execution_count": 31,
     "metadata": {},
     "output_type": "execute_result"
    }
   ],
   "source": [
    "train_df.isna().sum()"
   ]
  },
  {
   "cell_type": "code",
   "execution_count": 32,
   "metadata": {},
   "outputs": [],
   "source": [
    "# fill NAs\n",
    "season_holidayed_code_mode = list(train_df[\"season_holidayed_code\"].mode())\n",
    "season_holidayed_code_mode = season_holidayed_code_mode[0]\n",
    "\n",
    "train_df[\"season_holidayed_code\"] = train_df[\"season_holidayed_code\"].fillna(season_holidayed_code_mode)\n",
    "test_df[\"season_holidayed_code\"] = test_df[\"season_holidayed_code\"].fillna(season_holidayed_code_mode)"
   ]
  },
  {
   "cell_type": "code",
   "execution_count": 33,
   "metadata": {},
   "outputs": [],
   "source": [
    "state_code_residence_mode = list(train_df[\"state_code_residence\"].mode())\n",
    "state_code_residence_mode = state_code_residence_mode[0]\n",
    "\n",
    "train_df[\"state_code_residence\"] = train_df[\"state_code_residence\"].fillna(state_code_residence_mode)\n",
    "test_df[\"state_code_residence\"] = test_df[\"state_code_residence\"].fillna(state_code_residence_mode)"
   ]
  },
  {
   "cell_type": "code",
   "execution_count": 34,
   "metadata": {
    "scrolled": true
   },
   "outputs": [
    {
     "data": {
      "text/plain": [
       "reservation_id                        0\n",
       "booking_date                          0\n",
       "checkin_date                          0\n",
       "checkout_date                         0\n",
       "channel_code                          0\n",
       "main_product_code                     0\n",
       "numberofadults                        0\n",
       "numberofchildren                      0\n",
       "persontravellingid                    0\n",
       "resort_region_code                    0\n",
       "resort_type_code                      0\n",
       "room_type_booked_code                 0\n",
       "season_holidayed_code                 0\n",
       "state_code_residence                  0\n",
       "state_code_resort                     0\n",
       "total_pax                             0\n",
       "member_age_buckets                    0\n",
       "booking_type_code                     0\n",
       "memberid                              0\n",
       "cluster_code                          0\n",
       "reservationstatusid_code              0\n",
       "resort_id                             0\n",
       "amount_spent_per_room_night_scaled    0\n",
       "dtype: int64"
      ]
     },
     "execution_count": 34,
     "metadata": {},
     "output_type": "execute_result"
    }
   ],
   "source": [
    "train_df.isna().sum()"
   ]
  },
  {
   "cell_type": "code",
   "execution_count": 35,
   "metadata": {
    "scrolled": true
   },
   "outputs": [],
   "source": [
    "# convert the \"season_holidayed_code\",\"state_code_residence\" to int64 dtype to get rid of decimal point\n",
    "train_df[[\"season_holidayed_code\",\"state_code_residence\"]] = train_df[[\"season_holidayed_code\",\"state_code_residence\"]].astype(\"int64\")\n",
    "# convert the \"season_holidayed_code\",\"state_code_residence\" to category\n",
    "train_df[[\"season_holidayed_code\",\"state_code_residence\"]] = train_df[[\"season_holidayed_code\",\"state_code_residence\"]].astype(\"category\")\n",
    "\n",
    "# convert the \"season_holidayed_code\",\"state_code_residence\" to int64 dtype to get rid of decimal point\n",
    "test_df[[\"season_holidayed_code\",\"state_code_residence\"]] = test_df[[\"season_holidayed_code\",\"state_code_residence\"]].astype(\"int64\")\n",
    "# convert the \"season_holidayed_code\",\"state_code_residence\" to category\n",
    "test_df[[\"season_holidayed_code\",\"state_code_residence\"]] = test_df[[\"season_holidayed_code\",\"state_code_residence\"]].astype(\"category\")"
   ]
  },
  {
   "cell_type": "code",
   "execution_count": 36,
   "metadata": {},
   "outputs": [
    {
     "data": {
      "text/plain": [
       "reservation_id                                object\n",
       "booking_date                          datetime64[ns]\n",
       "checkin_date                          datetime64[ns]\n",
       "checkout_date                         datetime64[ns]\n",
       "channel_code                                category\n",
       "main_product_code                           category\n",
       "numberofadults                              category\n",
       "numberofchildren                            category\n",
       "persontravellingid                          category\n",
       "resort_region_code                          category\n",
       "resort_type_code                            category\n",
       "room_type_booked_code                       category\n",
       "season_holidayed_code                       category\n",
       "state_code_residence                        category\n",
       "state_code_resort                           category\n",
       "total_pax                                   category\n",
       "member_age_buckets                          category\n",
       "booking_type_code                           category\n",
       "memberid                                      object\n",
       "cluster_code                                category\n",
       "reservationstatusid_code                    category\n",
       "resort_id                                   category\n",
       "amount_spent_per_room_night_scaled           float64\n",
       "dtype: object"
      ]
     },
     "execution_count": 36,
     "metadata": {},
     "output_type": "execute_result"
    }
   ],
   "source": [
    "train_df.dtypes"
   ]
  },
  {
   "cell_type": "code",
   "execution_count": 37,
   "metadata": {},
   "outputs": [
    {
     "data": {
      "text/plain": [
       "reservation_id                      object\n",
       "booking_date                datetime64[ns]\n",
       "checkin_date                datetime64[ns]\n",
       "checkout_date               datetime64[ns]\n",
       "channel_code                      category\n",
       "main_product_code                 category\n",
       "numberofadults                    category\n",
       "numberofchildren                  category\n",
       "persontravellingid                category\n",
       "resort_region_code                category\n",
       "resort_type_code                  category\n",
       "room_type_booked_code             category\n",
       "season_holidayed_code             category\n",
       "state_code_residence              category\n",
       "state_code_resort                 category\n",
       "total_pax                         category\n",
       "member_age_buckets                category\n",
       "booking_type_code                 category\n",
       "memberid                            object\n",
       "cluster_code                      category\n",
       "reservationstatusid_code          category\n",
       "resort_id                         category\n",
       "dtype: object"
      ]
     },
     "execution_count": 37,
     "metadata": {},
     "output_type": "execute_result"
    }
   ],
   "source": [
    "test_df.dtypes"
   ]
  },
  {
   "cell_type": "code",
   "execution_count": 38,
   "metadata": {},
   "outputs": [
    {
     "data": {
      "text/plain": [
       "<matplotlib.axes._subplots.AxesSubplot at 0x213c4e59f60>"
      ]
     },
     "execution_count": 38,
     "metadata": {},
     "output_type": "execute_result"
    },
    {
     "data": {
      "image/png": "[encoded data removed]",
      "text/plain": [
       "<Figure size 432x288 with 1 Axes>"
      ]
     },
     "metadata": {
      "needs_background": "light"
     },
     "output_type": "display_data"
    }
   ],
   "source": [
    "# histogram of amount spent\n",
    "train_df.amount_spent_per_room_night_scaled.hist(bins=100)"
   ]
  },
  {
   "cell_type": "code",
   "execution_count": 39,
   "metadata": {},
   "outputs": [],
   "source": [
    "# calculate the number of days of stay\n",
    "# train\n",
    "train_df[\"stay_days\"] = (train_df[\"checkin_date\"]-train_df[\"checkin_date\"]).dt.days\n",
    "#test\n",
    "test_df[\"stay_days\"] = (test_df[\"checkin_date\"]-test_df[\"checkin_date\"]).dt.days"
   ]
  },
  {
   "cell_type": "code",
   "execution_count": 40,
   "metadata": {},
   "outputs": [],
   "source": [
    "# extract the month of stay\n",
    "#train\n",
    "train_df['month'] = pd.DatetimeIndex(train_df['checkin_date']).month\n",
    "#test\n",
    "test_df['month'] = pd.DatetimeIndex(test_df['checkin_date']).month\n"
   ]
  },
  {
   "cell_type": "code",
   "execution_count": 41,
   "metadata": {},
   "outputs": [],
   "source": [
    "# extract the year of stay\n",
    "#train\n",
    "train_df['year'] = pd.DatetimeIndex(train_df['checkin_date']).year\n",
    "#test\n",
    "test_df['year'] = pd.DatetimeIndex(test_df['checkin_date']).year"
   ]
  },
  {
   "cell_type": "code",
   "execution_count": 42,
   "metadata": {},
   "outputs": [],
   "source": [
    "# extract the year of stay\n",
    "#train\n",
    "train_df['week_day'] = pd.DatetimeIndex(train_df['checkin_date']).weekday\n",
    "#test\n",
    "test_df['week_day'] = pd.DatetimeIndex(test_df['checkin_date']).weekday\n"
   ]
  },
  {
   "cell_type": "code",
   "execution_count": 43,
   "metadata": {},
   "outputs": [
    {
     "data": {
      "text/plain": [
       "4    56621\n",
       "6    53425\n",
       "5    52000\n",
       "0    47723\n",
       "3    45002\n",
       "1    43348\n",
       "2    43305\n",
       "Name: week_day, dtype: int64"
      ]
     },
     "execution_count": 43,
     "metadata": {},
     "output_type": "execute_result"
    }
   ],
   "source": [
    "train_df['week_day'].value_counts()"
   ]
  },
  {
   "cell_type": "code",
   "execution_count": 44,
   "metadata": {
    "scrolled": true
   },
   "outputs": [
    {
     "data": {
      "text/plain": [
       "6"
      ]
     },
     "execution_count": 44,
     "metadata": {},
     "output_type": "execute_result"
    }
   ],
   "source": [
    "len(train_df[\"year\"].astype(\"category\").unique())"
   ]
  },
  {
   "cell_type": "code",
   "execution_count": 45,
   "metadata": {},
   "outputs": [
    {
     "data": {
      "text/plain": [
       "[2018, 2015, 2016, 2017, 2012, 2019]\n",
       "Categories (6, int64): [2018, 2015, 2016, 2017, 2012, 2019]"
      ]
     },
     "execution_count": 45,
     "metadata": {},
     "output_type": "execute_result"
    }
   ],
   "source": [
    "train_df[\"year\"].astype(\"category\").unique()"
   ]
  },
  {
   "cell_type": "code",
   "execution_count": 46,
   "metadata": {},
   "outputs": [
    {
     "data": {
      "text/plain": [
       "0    341424\n",
       "Name: stay_days, dtype: int64"
      ]
     },
     "execution_count": 46,
     "metadata": {},
     "output_type": "execute_result"
    }
   ],
   "source": [
    "#train_df[\"stay_days\"] = train_df[\"stay_days\"].astype(\"category\")\n",
    "train_df[\"stay_days\"].value_counts()"
   ]
  },
  {
   "cell_type": "code",
   "execution_count": 47,
   "metadata": {},
   "outputs": [
    {
     "data": {
      "text/plain": [
       "1     34110\n",
       "5     30786\n",
       "2     30167\n",
       "4     30052\n",
       "12    29822\n",
       "3     28773\n",
       "6     28479\n",
       "10    27920\n",
       "11    27230\n",
       "7     25432\n",
       "9     25026\n",
       "8     23627\n",
       "Name: month, dtype: int64"
      ]
     },
     "execution_count": 47,
     "metadata": {},
     "output_type": "execute_result"
    }
   ],
   "source": [
    "train_df[\"month\"].value_counts()"
   ]
  },
  {
   "cell_type": "code",
   "execution_count": 48,
   "metadata": {},
   "outputs": [
    {
     "data": {
      "text/plain": [
       "2017    87841\n",
       "2018    83515\n",
       "2016    82340\n",
       "2015    75088\n",
       "2019    12628\n",
       "2012       12\n",
       "Name: year, dtype: int64"
      ]
     },
     "execution_count": 48,
     "metadata": {},
     "output_type": "execute_result"
    }
   ],
   "source": [
    "train_df[\"year\"].value_counts()"
   ]
  },
  {
   "cell_type": "code",
   "execution_count": 49,
   "metadata": {},
   "outputs": [
    {
     "data": {
      "text/plain": [
       "<matplotlib.axes._subplots.AxesSubplot at 0x213bb916e80>"
      ]
     },
     "execution_count": 49,
     "metadata": {},
     "output_type": "execute_result"
    },
    {
     "data": {
      "image/png": "[encoded data removed]",
      "text/plain": [
       "<Figure size 432x288 with 1 Axes>"
      ]
     },
     "metadata": {
      "needs_background": "light"
     },
     "output_type": "display_data"
    }
   ],
   "source": [
    "#amount spent vs stay days \n",
    "sns.scatterplot(x=train_df.stay_days, y= train_df.amount_spent_per_room_night_scaled, alpha=0.1)"
   ]
  },
  {
   "cell_type": "code",
   "execution_count": 55,
   "metadata": {},
   "outputs": [
    {
     "data": {
      "text/plain": [
       "<matplotlib.axes._subplots.AxesSubplot at 0x213c6435550>"
      ]
     },
     "execution_count": 55,
     "metadata": {},
     "output_type": "execute_result"
    },
    {
     "data": {
      "image/png": "[encoded data removed]",
      "text/plain": [
       "<Figure size 432x288 with 1 Axes>"
      ]
     },
     "metadata": {
      "needs_background": "light"
     },
     "output_type": "display_data"
    }
   ],
   "source": [
    "\n",
    "sns.scatterplot(x=train_df.month, y= train_df.amount_spent_per_room_night_scaled, alpha=0.005, )"
   ]
  },
  {
   "cell_type": "markdown",
   "metadata": {},
   "source": [
    "most of the spending is between 4 and 10"
   ]
  },
  {
   "cell_type": "code",
   "execution_count": 56,
   "metadata": {},
   "outputs": [
    {
     "data": {
      "text/plain": [
       "reservation_id                                object\n",
       "booking_date                          datetime64[ns]\n",
       "checkin_date                          datetime64[ns]\n",
       "checkout_date                         datetime64[ns]\n",
       "channel_code                                category\n",
       "main_product_code                           category\n",
       "numberofadults                              category\n",
       "numberofchildren                            category\n",
       "persontravellingid                          category\n",
       "resort_region_code                          category\n",
       "resort_type_code                            category\n",
       "room_type_booked_code                       category\n",
       "season_holidayed_code                       category\n",
       "state_code_residence                        category\n",
       "state_code_resort                           category\n",
       "total_pax                                   category\n",
       "member_age_buckets                          category\n",
       "booking_type_code                           category\n",
       "memberid                                      object\n",
       "cluster_code                                category\n",
       "reservationstatusid_code                    category\n",
       "resort_id                                   category\n",
       "amount_spent_per_room_night_scaled           float64\n",
       "stay_days                                      int64\n",
       "month                                          int64\n",
       "year                                           int64\n",
       "week_day                                       int64\n",
       "dtype: object"
      ]
     },
     "execution_count": 56,
     "metadata": {},
     "output_type": "execute_result"
    }
   ],
   "source": [
    "train_df.dtypes"
   ]
  },
  {
   "cell_type": "code",
   "execution_count": null,
   "metadata": {},
   "outputs": [],
   "source": []
  },
  {
   "cell_type": "code",
   "execution_count": null,
   "metadata": {},
   "outputs": [],
   "source": []
  },
  {
   "cell_type": "code",
   "execution_count": null,
   "metadata": {},
   "outputs": [],
   "source": []
  },
  {
   "cell_type": "code",
   "execution_count": null,
   "metadata": {},
   "outputs": [],
   "source": []
  },
  {
   "cell_type": "code",
   "execution_count": 57,
   "metadata": {},
   "outputs": [
    {
     "data": {
      "text/html": [
       "<div>\n",
       "<style scoped>\n",
       "    .dataframe tbody tr th:only-of-type {\n",
       "        vertical-align: middle;\n",
       "    }\n",
       "\n",
       "    .dataframe tbody tr th {\n",
       "        vertical-align: top;\n",
       "    }\n",
       "\n",
       "    .dataframe thead th {\n",
       "        text-align: right;\n",
       "    }\n",
       "</style>\n",
       "<table border=\"1\" class=\"dataframe\">\n",
       "  <thead>\n",
       "    <tr style=\"text-align: right;\">\n",
       "      <th></th>\n",
       "      <th>reservation_id</th>\n",
       "      <th>booking_date</th>\n",
       "      <th>checkin_date</th>\n",
       "      <th>checkout_date</th>\n",
       "      <th>channel_code</th>\n",
       "      <th>main_product_code</th>\n",
       "      <th>numberofadults</th>\n",
       "      <th>numberofchildren</th>\n",
       "      <th>persontravellingid</th>\n",
       "      <th>resort_region_code</th>\n",
       "      <th>...</th>\n",
       "      <th>booking_type_code</th>\n",
       "      <th>memberid</th>\n",
       "      <th>cluster_code</th>\n",
       "      <th>reservationstatusid_code</th>\n",
       "      <th>resort_id</th>\n",
       "      <th>amount_spent_per_room_night_scaled</th>\n",
       "      <th>stay_days</th>\n",
       "      <th>month</th>\n",
       "      <th>year</th>\n",
       "      <th>week_day</th>\n",
       "    </tr>\n",
       "  </thead>\n",
       "  <tbody>\n",
       "    <tr>\n",
       "      <th>0</th>\n",
       "      <td>07659f3758d8aee27f5a7e2887adeacb67021cb95ada1b...</td>\n",
       "      <td>2018-04-05</td>\n",
       "      <td>2018-04-05</td>\n",
       "      <td>2018-04-06</td>\n",
       "      <td>3</td>\n",
       "      <td>1</td>\n",
       "      <td>2</td>\n",
       "      <td>0</td>\n",
       "      <td>46</td>\n",
       "      <td>3</td>\n",
       "      <td>...</td>\n",
       "      <td>1</td>\n",
       "      <td>3d1539e56495b6991f0a3ef5a61ca3d03ce4fff7380e9a...</td>\n",
       "      <td>F</td>\n",
       "      <td>C</td>\n",
       "      <td>4e07408562bedb8b60ce05c1decfe3ad16b72230967de0...</td>\n",
       "      <td>7.706428</td>\n",
       "      <td>0</td>\n",
       "      <td>4</td>\n",
       "      <td>2018</td>\n",
       "      <td>3</td>\n",
       "    </tr>\n",
       "    <tr>\n",
       "      <th>1</th>\n",
       "      <td>03930f033646d073462b35d411616323597715ac4fc398...</td>\n",
       "      <td>2015-01-23</td>\n",
       "      <td>2015-04-11</td>\n",
       "      <td>2015-04-16</td>\n",
       "      <td>1</td>\n",
       "      <td>1</td>\n",
       "      <td>2</td>\n",
       "      <td>0</td>\n",
       "      <td>46</td>\n",
       "      <td>3</td>\n",
       "      <td>...</td>\n",
       "      <td>1</td>\n",
       "      <td>3d1539e56495b6991f0a3ef5a61ca3d03ce4fff7380e9a...</td>\n",
       "      <td>F</td>\n",
       "      <td>A</td>\n",
       "      <td>39fa9ec190eee7b6f4dff1100d6343e10918d044c75eac...</td>\n",
       "      <td>6.662563</td>\n",
       "      <td>0</td>\n",
       "      <td>4</td>\n",
       "      <td>2015</td>\n",
       "      <td>5</td>\n",
       "    </tr>\n",
       "    <tr>\n",
       "      <th>2</th>\n",
       "      <td>d145a32920e6587ad95bfe299d80c0affa268220535aaf...</td>\n",
       "      <td>2015-01-28</td>\n",
       "      <td>2015-02-01</td>\n",
       "      <td>2015-02-05</td>\n",
       "      <td>1</td>\n",
       "      <td>1</td>\n",
       "      <td>2</td>\n",
       "      <td>0</td>\n",
       "      <td>47</td>\n",
       "      <td>1</td>\n",
       "      <td>...</td>\n",
       "      <td>1</td>\n",
       "      <td>3d1539e56495b6991f0a3ef5a61ca3d03ce4fff7380e9a...</td>\n",
       "      <td>E</td>\n",
       "      <td>A</td>\n",
       "      <td>535fa30d7e25dd8a49f1536779734ec8286108d115da50...</td>\n",
       "      <td>7.871602</td>\n",
       "      <td>0</td>\n",
       "      <td>2</td>\n",
       "      <td>2015</td>\n",
       "      <td>6</td>\n",
       "    </tr>\n",
       "    <tr>\n",
       "      <th>3</th>\n",
       "      <td>cfd77f44811ed62f25a220b53324cdbafc662a4c9e5f04...</td>\n",
       "      <td>2015-05-02</td>\n",
       "      <td>2015-06-11</td>\n",
       "      <td>2015-06-16</td>\n",
       "      <td>1</td>\n",
       "      <td>1</td>\n",
       "      <td>2</td>\n",
       "      <td>2</td>\n",
       "      <td>46</td>\n",
       "      <td>2</td>\n",
       "      <td>...</td>\n",
       "      <td>1</td>\n",
       "      <td>3d1539e56495b6991f0a3ef5a61ca3d03ce4fff7380e9a...</td>\n",
       "      <td>D</td>\n",
       "      <td>A</td>\n",
       "      <td>d4735e3a265e16eee03f59718b9b5d03019c07d8b6c51f...</td>\n",
       "      <td>5.344943</td>\n",
       "      <td>0</td>\n",
       "      <td>6</td>\n",
       "      <td>2015</td>\n",
       "      <td>3</td>\n",
       "    </tr>\n",
       "    <tr>\n",
       "      <th>4</th>\n",
       "      <td>937cff9e4dcfc2459620153dfc8b9962ac22bea67dfb29...</td>\n",
       "      <td>2015-09-02</td>\n",
       "      <td>2015-12-14</td>\n",
       "      <td>2015-12-19</td>\n",
       "      <td>1</td>\n",
       "      <td>1</td>\n",
       "      <td>2</td>\n",
       "      <td>0</td>\n",
       "      <td>46</td>\n",
       "      <td>2</td>\n",
       "      <td>...</td>\n",
       "      <td>1</td>\n",
       "      <td>3d1539e56495b6991f0a3ef5a61ca3d03ce4fff7380e9a...</td>\n",
       "      <td>D</td>\n",
       "      <td>A</td>\n",
       "      <td>d4735e3a265e16eee03f59718b9b5d03019c07d8b6c51f...</td>\n",
       "      <td>7.059346</td>\n",
       "      <td>0</td>\n",
       "      <td>12</td>\n",
       "      <td>2015</td>\n",
       "      <td>0</td>\n",
       "    </tr>\n",
       "  </tbody>\n",
       "</table>\n",
       "<p>5 rows × 27 columns</p>\n",
       "</div>"
      ],
      "text/plain": [
       "                                      reservation_id booking_date  \\\n",
       "0  07659f3758d8aee27f5a7e2887adeacb67021cb95ada1b...   2018-04-05   \n",
       "1  03930f033646d073462b35d411616323597715ac4fc398...   2015-01-23   \n",
       "2  d145a32920e6587ad95bfe299d80c0affa268220535aaf...   2015-01-28   \n",
       "3  cfd77f44811ed62f25a220b53324cdbafc662a4c9e5f04...   2015-05-02   \n",
       "4  937cff9e4dcfc2459620153dfc8b9962ac22bea67dfb29...   2015-09-02   \n",
       "\n",
       "  checkin_date checkout_date channel_code main_product_code numberofadults  \\\n",
       "0   2018-04-05    2018-04-06            3                 1              2   \n",
       "1   2015-04-11    2015-04-16            1                 1              2   \n",
       "2   2015-02-01    2015-02-05            1                 1              2   \n",
       "3   2015-06-11    2015-06-16            1                 1              2   \n",
       "4   2015-12-14    2015-12-19            1                 1              2   \n",
       "\n",
       "  numberofchildren persontravellingid resort_region_code  ...  \\\n",
       "0                0                 46                  3  ...   \n",
       "1                0                 46                  3  ...   \n",
       "2                0                 47                  1  ...   \n",
       "3                2                 46                  2  ...   \n",
       "4                0                 46                  2  ...   \n",
       "\n",
       "  booking_type_code                                           memberid  \\\n",
       "0                 1  3d1539e56495b6991f0a3ef5a61ca3d03ce4fff7380e9a...   \n",
       "1                 1  3d1539e56495b6991f0a3ef5a61ca3d03ce4fff7380e9a...   \n",
       "2                 1  3d1539e56495b6991f0a3ef5a61ca3d03ce4fff7380e9a...   \n",
       "3                 1  3d1539e56495b6991f0a3ef5a61ca3d03ce4fff7380e9a...   \n",
       "4                 1  3d1539e56495b6991f0a3ef5a61ca3d03ce4fff7380e9a...   \n",
       "\n",
       "  cluster_code reservationstatusid_code  \\\n",
       "0            F                        C   \n",
       "1            F                        A   \n",
       "2            E                        A   \n",
       "3            D                        A   \n",
       "4            D                        A   \n",
       "\n",
       "                                           resort_id  \\\n",
       "0  4e07408562bedb8b60ce05c1decfe3ad16b72230967de0...   \n",
       "1  39fa9ec190eee7b6f4dff1100d6343e10918d044c75eac...   \n",
       "2  535fa30d7e25dd8a49f1536779734ec8286108d115da50...   \n",
       "3  d4735e3a265e16eee03f59718b9b5d03019c07d8b6c51f...   \n",
       "4  d4735e3a265e16eee03f59718b9b5d03019c07d8b6c51f...   \n",
       "\n",
       "  amount_spent_per_room_night_scaled stay_days month  year week_day  \n",
       "0                           7.706428         0     4  2018        3  \n",
       "1                           6.662563         0     4  2015        5  \n",
       "2                           7.871602         0     2  2015        6  \n",
       "3                           5.344943         0     6  2015        3  \n",
       "4                           7.059346         0    12  2015        0  \n",
       "\n",
       "[5 rows x 27 columns]"
      ]
     },
     "execution_count": 57,
     "metadata": {},
     "output_type": "execute_result"
    }
   ],
   "source": [
    "train_df.head()"
   ]
  },
  {
   "cell_type": "code",
   "execution_count": 58,
   "metadata": {},
   "outputs": [
    {
     "name": "stdout",
     "output_type": "stream",
     "text": [
      "shape of the data set \n",
      " train -> (341424, 25) \n",
      " test -> (146765, 24)\n"
     ]
    }
   ],
   "source": [
    "# drop \"reservation_id\" and \"memberid\" from both train and test\n",
    "\n",
    "train = train_df.drop([\"reservation_id\", \"memberid\"],1)\n",
    "\n",
    "test = test_df.drop([\"reservation_id\", \"memberid\"],1)\n",
    "\n",
    "print (\"shape of the data set \\n train -> {} \\n test -> {}\".format(train.shape,test.shape))"
   ]
  },
  {
   "cell_type": "code",
   "execution_count": 59,
   "metadata": {},
   "outputs": [
    {
     "data": {
      "text/html": [
       "<div>\n",
       "<style scoped>\n",
       "    .dataframe tbody tr th:only-of-type {\n",
       "        vertical-align: middle;\n",
       "    }\n",
       "\n",
       "    .dataframe tbody tr th {\n",
       "        vertical-align: top;\n",
       "    }\n",
       "\n",
       "    .dataframe thead th {\n",
       "        text-align: right;\n",
       "    }\n",
       "</style>\n",
       "<table border=\"1\" class=\"dataframe\">\n",
       "  <thead>\n",
       "    <tr style=\"text-align: right;\">\n",
       "      <th></th>\n",
       "      <th>booking_date</th>\n",
       "      <th>checkin_date</th>\n",
       "      <th>checkout_date</th>\n",
       "      <th>channel_code</th>\n",
       "      <th>main_product_code</th>\n",
       "      <th>numberofadults</th>\n",
       "      <th>numberofchildren</th>\n",
       "      <th>persontravellingid</th>\n",
       "      <th>resort_region_code</th>\n",
       "      <th>resort_type_code</th>\n",
       "      <th>...</th>\n",
       "      <th>member_age_buckets</th>\n",
       "      <th>booking_type_code</th>\n",
       "      <th>cluster_code</th>\n",
       "      <th>reservationstatusid_code</th>\n",
       "      <th>resort_id</th>\n",
       "      <th>amount_spent_per_room_night_scaled</th>\n",
       "      <th>stay_days</th>\n",
       "      <th>month</th>\n",
       "      <th>year</th>\n",
       "      <th>week_day</th>\n",
       "    </tr>\n",
       "  </thead>\n",
       "  <tbody>\n",
       "    <tr>\n",
       "      <th>0</th>\n",
       "      <td>2018-04-05</td>\n",
       "      <td>2018-04-05</td>\n",
       "      <td>2018-04-06</td>\n",
       "      <td>3</td>\n",
       "      <td>1</td>\n",
       "      <td>2</td>\n",
       "      <td>0</td>\n",
       "      <td>46</td>\n",
       "      <td>3</td>\n",
       "      <td>3</td>\n",
       "      <td>...</td>\n",
       "      <td>F</td>\n",
       "      <td>1</td>\n",
       "      <td>F</td>\n",
       "      <td>C</td>\n",
       "      <td>4e07408562bedb8b60ce05c1decfe3ad16b72230967de0...</td>\n",
       "      <td>7.706428</td>\n",
       "      <td>0</td>\n",
       "      <td>4</td>\n",
       "      <td>2018</td>\n",
       "      <td>3</td>\n",
       "    </tr>\n",
       "    <tr>\n",
       "      <th>1</th>\n",
       "      <td>2015-01-23</td>\n",
       "      <td>2015-04-11</td>\n",
       "      <td>2015-04-16</td>\n",
       "      <td>1</td>\n",
       "      <td>1</td>\n",
       "      <td>2</td>\n",
       "      <td>0</td>\n",
       "      <td>46</td>\n",
       "      <td>3</td>\n",
       "      <td>3</td>\n",
       "      <td>...</td>\n",
       "      <td>F</td>\n",
       "      <td>1</td>\n",
       "      <td>F</td>\n",
       "      <td>A</td>\n",
       "      <td>39fa9ec190eee7b6f4dff1100d6343e10918d044c75eac...</td>\n",
       "      <td>6.662563</td>\n",
       "      <td>0</td>\n",
       "      <td>4</td>\n",
       "      <td>2015</td>\n",
       "      <td>5</td>\n",
       "    </tr>\n",
       "    <tr>\n",
       "      <th>2</th>\n",
       "      <td>2015-01-28</td>\n",
       "      <td>2015-02-01</td>\n",
       "      <td>2015-02-05</td>\n",
       "      <td>1</td>\n",
       "      <td>1</td>\n",
       "      <td>2</td>\n",
       "      <td>0</td>\n",
       "      <td>47</td>\n",
       "      <td>1</td>\n",
       "      <td>5</td>\n",
       "      <td>...</td>\n",
       "      <td>F</td>\n",
       "      <td>1</td>\n",
       "      <td>E</td>\n",
       "      <td>A</td>\n",
       "      <td>535fa30d7e25dd8a49f1536779734ec8286108d115da50...</td>\n",
       "      <td>7.871602</td>\n",
       "      <td>0</td>\n",
       "      <td>2</td>\n",
       "      <td>2015</td>\n",
       "      <td>6</td>\n",
       "    </tr>\n",
       "    <tr>\n",
       "      <th>3</th>\n",
       "      <td>2015-05-02</td>\n",
       "      <td>2015-06-11</td>\n",
       "      <td>2015-06-16</td>\n",
       "      <td>1</td>\n",
       "      <td>1</td>\n",
       "      <td>2</td>\n",
       "      <td>2</td>\n",
       "      <td>46</td>\n",
       "      <td>2</td>\n",
       "      <td>2</td>\n",
       "      <td>...</td>\n",
       "      <td>F</td>\n",
       "      <td>1</td>\n",
       "      <td>D</td>\n",
       "      <td>A</td>\n",
       "      <td>d4735e3a265e16eee03f59718b9b5d03019c07d8b6c51f...</td>\n",
       "      <td>5.344943</td>\n",
       "      <td>0</td>\n",
       "      <td>6</td>\n",
       "      <td>2015</td>\n",
       "      <td>3</td>\n",
       "    </tr>\n",
       "    <tr>\n",
       "      <th>4</th>\n",
       "      <td>2015-09-02</td>\n",
       "      <td>2015-12-14</td>\n",
       "      <td>2015-12-19</td>\n",
       "      <td>1</td>\n",
       "      <td>1</td>\n",
       "      <td>2</td>\n",
       "      <td>0</td>\n",
       "      <td>46</td>\n",
       "      <td>2</td>\n",
       "      <td>2</td>\n",
       "      <td>...</td>\n",
       "      <td>F</td>\n",
       "      <td>1</td>\n",
       "      <td>D</td>\n",
       "      <td>A</td>\n",
       "      <td>d4735e3a265e16eee03f59718b9b5d03019c07d8b6c51f...</td>\n",
       "      <td>7.059346</td>\n",
       "      <td>0</td>\n",
       "      <td>12</td>\n",
       "      <td>2015</td>\n",
       "      <td>0</td>\n",
       "    </tr>\n",
       "  </tbody>\n",
       "</table>\n",
       "<p>5 rows × 25 columns</p>\n",
       "</div>"
      ],
      "text/plain": [
       "  booking_date checkin_date checkout_date channel_code main_product_code  \\\n",
       "0   2018-04-05   2018-04-05    2018-04-06            3                 1   \n",
       "1   2015-01-23   2015-04-11    2015-04-16            1                 1   \n",
       "2   2015-01-28   2015-02-01    2015-02-05            1                 1   \n",
       "3   2015-05-02   2015-06-11    2015-06-16            1                 1   \n",
       "4   2015-09-02   2015-12-14    2015-12-19            1                 1   \n",
       "\n",
       "  numberofadults numberofchildren persontravellingid resort_region_code  \\\n",
       "0              2                0                 46                  3   \n",
       "1              2                0                 46                  3   \n",
       "2              2                0                 47                  1   \n",
       "3              2                2                 46                  2   \n",
       "4              2                0                 46                  2   \n",
       "\n",
       "  resort_type_code  ... member_age_buckets booking_type_code cluster_code  \\\n",
       "0                3  ...                  F                 1            F   \n",
       "1                3  ...                  F                 1            F   \n",
       "2                5  ...                  F                 1            E   \n",
       "3                2  ...                  F                 1            D   \n",
       "4                2  ...                  F                 1            D   \n",
       "\n",
       "  reservationstatusid_code                                          resort_id  \\\n",
       "0                        C  4e07408562bedb8b60ce05c1decfe3ad16b72230967de0...   \n",
       "1                        A  39fa9ec190eee7b6f4dff1100d6343e10918d044c75eac...   \n",
       "2                        A  535fa30d7e25dd8a49f1536779734ec8286108d115da50...   \n",
       "3                        A  d4735e3a265e16eee03f59718b9b5d03019c07d8b6c51f...   \n",
       "4                        A  d4735e3a265e16eee03f59718b9b5d03019c07d8b6c51f...   \n",
       "\n",
       "  amount_spent_per_room_night_scaled stay_days month  year week_day  \n",
       "0                           7.706428         0     4  2018        3  \n",
       "1                           6.662563         0     4  2015        5  \n",
       "2                           7.871602         0     2  2015        6  \n",
       "3                           5.344943         0     6  2015        3  \n",
       "4                           7.059346         0    12  2015        0  \n",
       "\n",
       "[5 rows x 25 columns]"
      ]
     },
     "execution_count": 59,
     "metadata": {},
     "output_type": "execute_result"
    }
   ],
   "source": [
    "train.head()"
   ]
  },
  {
   "cell_type": "markdown",
   "metadata": {},
   "source": [
    "## label encoding"
   ]
  },
  {
   "cell_type": "code",
   "execution_count": 60,
   "metadata": {},
   "outputs": [],
   "source": [
    "from sklearn import preprocessing"
   ]
  },
  {
   "cell_type": "code",
   "execution_count": 61,
   "metadata": {},
   "outputs": [],
   "source": [
    "le = preprocessing.LabelEncoder()\n"
   ]
  },
  {
   "cell_type": "code",
   "execution_count": 62,
   "metadata": {},
   "outputs": [],
   "source": [
    "# fit for train \n",
    "le.fit(train.resort_id)\n",
    "# transform train\n",
    "train.resort_id = le.transform(train.resort_id)\n",
    "# transform test\n",
    "test.resort_id = le.transform(test.resort_id)"
   ]
  },
  {
   "cell_type": "code",
   "execution_count": 63,
   "metadata": {},
   "outputs": [],
   "source": [
    "# fit for train \n",
    "le.fit(train.member_age_buckets)\n",
    "# transform train\n",
    "train.member_age_buckets = le.transform(train.member_age_buckets)\n",
    "# transform test\n",
    "test.member_age_buckets = le.transform(test.member_age_buckets)"
   ]
  },
  {
   "cell_type": "code",
   "execution_count": 64,
   "metadata": {},
   "outputs": [],
   "source": [
    "# fit for train \n",
    "le.fit(train.cluster_code)\n",
    "# transform train\n",
    "train.cluster_code = le.transform(train.cluster_code)\n",
    "# transform test\n",
    "test.cluster_code = le.transform(test.cluster_code)"
   ]
  },
  {
   "cell_type": "code",
   "execution_count": 65,
   "metadata": {},
   "outputs": [],
   "source": [
    "# fit for train \n",
    "le.fit(train.reservationstatusid_code)\n",
    "# transform train\n",
    "train.reservationstatusid_code = le.transform(train.reservationstatusid_code)\n",
    "# transform test\n",
    "test.reservationstatusid_code = le.transform(test.reservationstatusid_code)"
   ]
  },
  {
   "cell_type": "code",
   "execution_count": 66,
   "metadata": {
    "scrolled": false
   },
   "outputs": [
    {
     "data": {
      "text/html": [
       "<div>\n",
       "<style scoped>\n",
       "    .dataframe tbody tr th:only-of-type {\n",
       "        vertical-align: middle;\n",
       "    }\n",
       "\n",
       "    .dataframe tbody tr th {\n",
       "        vertical-align: top;\n",
       "    }\n",
       "\n",
       "    .dataframe thead th {\n",
       "        text-align: right;\n",
       "    }\n",
       "</style>\n",
       "<table border=\"1\" class=\"dataframe\">\n",
       "  <thead>\n",
       "    <tr style=\"text-align: right;\">\n",
       "      <th></th>\n",
       "      <th>booking_date</th>\n",
       "      <th>checkin_date</th>\n",
       "      <th>checkout_date</th>\n",
       "      <th>channel_code</th>\n",
       "      <th>main_product_code</th>\n",
       "      <th>numberofadults</th>\n",
       "      <th>numberofchildren</th>\n",
       "      <th>persontravellingid</th>\n",
       "      <th>resort_region_code</th>\n",
       "      <th>resort_type_code</th>\n",
       "      <th>...</th>\n",
       "      <th>member_age_buckets</th>\n",
       "      <th>booking_type_code</th>\n",
       "      <th>cluster_code</th>\n",
       "      <th>reservationstatusid_code</th>\n",
       "      <th>resort_id</th>\n",
       "      <th>amount_spent_per_room_night_scaled</th>\n",
       "      <th>stay_days</th>\n",
       "      <th>month</th>\n",
       "      <th>year</th>\n",
       "      <th>week_day</th>\n",
       "    </tr>\n",
       "  </thead>\n",
       "  <tbody>\n",
       "    <tr>\n",
       "      <th>0</th>\n",
       "      <td>2018-04-05</td>\n",
       "      <td>2018-04-05</td>\n",
       "      <td>2018-04-06</td>\n",
       "      <td>3</td>\n",
       "      <td>1</td>\n",
       "      <td>2</td>\n",
       "      <td>0</td>\n",
       "      <td>46</td>\n",
       "      <td>3</td>\n",
       "      <td>3</td>\n",
       "      <td>...</td>\n",
       "      <td>5</td>\n",
       "      <td>1</td>\n",
       "      <td>5</td>\n",
       "      <td>2</td>\n",
       "      <td>7</td>\n",
       "      <td>7.706428</td>\n",
       "      <td>0</td>\n",
       "      <td>4</td>\n",
       "      <td>2018</td>\n",
       "      <td>3</td>\n",
       "    </tr>\n",
       "    <tr>\n",
       "      <th>1</th>\n",
       "      <td>2015-01-23</td>\n",
       "      <td>2015-04-11</td>\n",
       "      <td>2015-04-16</td>\n",
       "      <td>1</td>\n",
       "      <td>1</td>\n",
       "      <td>2</td>\n",
       "      <td>0</td>\n",
       "      <td>46</td>\n",
       "      <td>3</td>\n",
       "      <td>3</td>\n",
       "      <td>...</td>\n",
       "      <td>5</td>\n",
       "      <td>1</td>\n",
       "      <td>5</td>\n",
       "      <td>0</td>\n",
       "      <td>1</td>\n",
       "      <td>6.662563</td>\n",
       "      <td>0</td>\n",
       "      <td>4</td>\n",
       "      <td>2015</td>\n",
       "      <td>5</td>\n",
       "    </tr>\n",
       "    <tr>\n",
       "      <th>2</th>\n",
       "      <td>2015-01-28</td>\n",
       "      <td>2015-02-01</td>\n",
       "      <td>2015-02-05</td>\n",
       "      <td>1</td>\n",
       "      <td>1</td>\n",
       "      <td>2</td>\n",
       "      <td>0</td>\n",
       "      <td>47</td>\n",
       "      <td>1</td>\n",
       "      <td>5</td>\n",
       "      <td>...</td>\n",
       "      <td>5</td>\n",
       "      <td>1</td>\n",
       "      <td>4</td>\n",
       "      <td>0</td>\n",
       "      <td>9</td>\n",
       "      <td>7.871602</td>\n",
       "      <td>0</td>\n",
       "      <td>2</td>\n",
       "      <td>2015</td>\n",
       "      <td>6</td>\n",
       "    </tr>\n",
       "    <tr>\n",
       "      <th>3</th>\n",
       "      <td>2015-05-02</td>\n",
       "      <td>2015-06-11</td>\n",
       "      <td>2015-06-16</td>\n",
       "      <td>1</td>\n",
       "      <td>1</td>\n",
       "      <td>2</td>\n",
       "      <td>2</td>\n",
       "      <td>46</td>\n",
       "      <td>2</td>\n",
       "      <td>2</td>\n",
       "      <td>...</td>\n",
       "      <td>5</td>\n",
       "      <td>1</td>\n",
       "      <td>3</td>\n",
       "      <td>0</td>\n",
       "      <td>25</td>\n",
       "      <td>5.344943</td>\n",
       "      <td>0</td>\n",
       "      <td>6</td>\n",
       "      <td>2015</td>\n",
       "      <td>3</td>\n",
       "    </tr>\n",
       "    <tr>\n",
       "      <th>4</th>\n",
       "      <td>2015-09-02</td>\n",
       "      <td>2015-12-14</td>\n",
       "      <td>2015-12-19</td>\n",
       "      <td>1</td>\n",
       "      <td>1</td>\n",
       "      <td>2</td>\n",
       "      <td>0</td>\n",
       "      <td>46</td>\n",
       "      <td>2</td>\n",
       "      <td>2</td>\n",
       "      <td>...</td>\n",
       "      <td>5</td>\n",
       "      <td>1</td>\n",
       "      <td>3</td>\n",
       "      <td>0</td>\n",
       "      <td>25</td>\n",
       "      <td>7.059346</td>\n",
       "      <td>0</td>\n",
       "      <td>12</td>\n",
       "      <td>2015</td>\n",
       "      <td>0</td>\n",
       "    </tr>\n",
       "  </tbody>\n",
       "</table>\n",
       "<p>5 rows × 25 columns</p>\n",
       "</div>"
      ],
      "text/plain": [
       "  booking_date checkin_date checkout_date channel_code main_product_code  \\\n",
       "0   2018-04-05   2018-04-05    2018-04-06            3                 1   \n",
       "1   2015-01-23   2015-04-11    2015-04-16            1                 1   \n",
       "2   2015-01-28   2015-02-01    2015-02-05            1                 1   \n",
       "3   2015-05-02   2015-06-11    2015-06-16            1                 1   \n",
       "4   2015-09-02   2015-12-14    2015-12-19            1                 1   \n",
       "\n",
       "  numberofadults numberofchildren persontravellingid resort_region_code  \\\n",
       "0              2                0                 46                  3   \n",
       "1              2                0                 46                  3   \n",
       "2              2                0                 47                  1   \n",
       "3              2                2                 46                  2   \n",
       "4              2                0                 46                  2   \n",
       "\n",
       "  resort_type_code  ... member_age_buckets booking_type_code cluster_code  \\\n",
       "0                3  ...                  5                 1            5   \n",
       "1                3  ...                  5                 1            5   \n",
       "2                5  ...                  5                 1            4   \n",
       "3                2  ...                  5                 1            3   \n",
       "4                2  ...                  5                 1            3   \n",
       "\n",
       "  reservationstatusid_code resort_id  amount_spent_per_room_night_scaled  \\\n",
       "0                        2         7                            7.706428   \n",
       "1                        0         1                            6.662563   \n",
       "2                        0         9                            7.871602   \n",
       "3                        0        25                            5.344943   \n",
       "4                        0        25                            7.059346   \n",
       "\n",
       "  stay_days  month  year  week_day  \n",
       "0         0      4  2018         3  \n",
       "1         0      4  2015         5  \n",
       "2         0      2  2015         6  \n",
       "3         0      6  2015         3  \n",
       "4         0     12  2015         0  \n",
       "\n",
       "[5 rows x 25 columns]"
      ]
     },
     "execution_count": 66,
     "metadata": {},
     "output_type": "execute_result"
    }
   ],
   "source": [
    "train.head()"
   ]
  },
  {
   "cell_type": "code",
   "execution_count": 67,
   "metadata": {},
   "outputs": [
    {
     "data": {
      "text/html": [
       "<div>\n",
       "<style scoped>\n",
       "    .dataframe tbody tr th:only-of-type {\n",
       "        vertical-align: middle;\n",
       "    }\n",
       "\n",
       "    .dataframe tbody tr th {\n",
       "        vertical-align: top;\n",
       "    }\n",
       "\n",
       "    .dataframe thead th {\n",
       "        text-align: right;\n",
       "    }\n",
       "</style>\n",
       "<table border=\"1\" class=\"dataframe\">\n",
       "  <thead>\n",
       "    <tr style=\"text-align: right;\">\n",
       "      <th></th>\n",
       "      <th>booking_date</th>\n",
       "      <th>checkin_date</th>\n",
       "      <th>checkout_date</th>\n",
       "      <th>channel_code</th>\n",
       "      <th>main_product_code</th>\n",
       "      <th>numberofadults</th>\n",
       "      <th>numberofchildren</th>\n",
       "      <th>persontravellingid</th>\n",
       "      <th>resort_region_code</th>\n",
       "      <th>resort_type_code</th>\n",
       "      <th>...</th>\n",
       "      <th>total_pax</th>\n",
       "      <th>member_age_buckets</th>\n",
       "      <th>booking_type_code</th>\n",
       "      <th>cluster_code</th>\n",
       "      <th>reservationstatusid_code</th>\n",
       "      <th>resort_id</th>\n",
       "      <th>stay_days</th>\n",
       "      <th>month</th>\n",
       "      <th>year</th>\n",
       "      <th>week_day</th>\n",
       "    </tr>\n",
       "  </thead>\n",
       "  <tbody>\n",
       "    <tr>\n",
       "      <th>0</th>\n",
       "      <td>2018-04-05</td>\n",
       "      <td>2018-04-05</td>\n",
       "      <td>2018-04-06</td>\n",
       "      <td>3</td>\n",
       "      <td>2</td>\n",
       "      <td>2</td>\n",
       "      <td>0</td>\n",
       "      <td>45</td>\n",
       "      <td>3</td>\n",
       "      <td>3</td>\n",
       "      <td>...</td>\n",
       "      <td>3</td>\n",
       "      <td>7</td>\n",
       "      <td>1</td>\n",
       "      <td>0</td>\n",
       "      <td>2</td>\n",
       "      <td>20</td>\n",
       "      <td>0</td>\n",
       "      <td>4</td>\n",
       "      <td>2018</td>\n",
       "      <td>3</td>\n",
       "    </tr>\n",
       "    <tr>\n",
       "      <th>1</th>\n",
       "      <td>2015-05-24</td>\n",
       "      <td>2015-06-23</td>\n",
       "      <td>2015-06-27</td>\n",
       "      <td>1</td>\n",
       "      <td>2</td>\n",
       "      <td>4</td>\n",
       "      <td>0</td>\n",
       "      <td>45</td>\n",
       "      <td>1</td>\n",
       "      <td>1</td>\n",
       "      <td>...</td>\n",
       "      <td>2</td>\n",
       "      <td>7</td>\n",
       "      <td>1</td>\n",
       "      <td>5</td>\n",
       "      <td>0</td>\n",
       "      <td>28</td>\n",
       "      <td>0</td>\n",
       "      <td>6</td>\n",
       "      <td>2015</td>\n",
       "      <td>1</td>\n",
       "    </tr>\n",
       "    <tr>\n",
       "      <th>2</th>\n",
       "      <td>2015-07-21</td>\n",
       "      <td>2015-08-07</td>\n",
       "      <td>2015-08-10</td>\n",
       "      <td>3</td>\n",
       "      <td>2</td>\n",
       "      <td>3</td>\n",
       "      <td>0</td>\n",
       "      <td>45</td>\n",
       "      <td>2</td>\n",
       "      <td>2</td>\n",
       "      <td>...</td>\n",
       "      <td>3</td>\n",
       "      <td>7</td>\n",
       "      <td>1</td>\n",
       "      <td>3</td>\n",
       "      <td>0</td>\n",
       "      <td>25</td>\n",
       "      <td>0</td>\n",
       "      <td>8</td>\n",
       "      <td>2015</td>\n",
       "      <td>4</td>\n",
       "    </tr>\n",
       "    <tr>\n",
       "      <th>3</th>\n",
       "      <td>2015-07-31</td>\n",
       "      <td>2015-10-22</td>\n",
       "      <td>2015-10-25</td>\n",
       "      <td>1</td>\n",
       "      <td>2</td>\n",
       "      <td>3</td>\n",
       "      <td>0</td>\n",
       "      <td>45</td>\n",
       "      <td>1</td>\n",
       "      <td>1</td>\n",
       "      <td>...</td>\n",
       "      <td>3</td>\n",
       "      <td>7</td>\n",
       "      <td>1</td>\n",
       "      <td>5</td>\n",
       "      <td>0</td>\n",
       "      <td>5</td>\n",
       "      <td>0</td>\n",
       "      <td>10</td>\n",
       "      <td>2015</td>\n",
       "      <td>3</td>\n",
       "    </tr>\n",
       "    <tr>\n",
       "      <th>4</th>\n",
       "      <td>2016-07-01</td>\n",
       "      <td>2016-10-01</td>\n",
       "      <td>2016-10-05</td>\n",
       "      <td>1</td>\n",
       "      <td>2</td>\n",
       "      <td>4</td>\n",
       "      <td>0</td>\n",
       "      <td>45</td>\n",
       "      <td>1</td>\n",
       "      <td>2</td>\n",
       "      <td>...</td>\n",
       "      <td>2</td>\n",
       "      <td>7</td>\n",
       "      <td>1</td>\n",
       "      <td>5</td>\n",
       "      <td>0</td>\n",
       "      <td>27</td>\n",
       "      <td>0</td>\n",
       "      <td>10</td>\n",
       "      <td>2016</td>\n",
       "      <td>5</td>\n",
       "    </tr>\n",
       "  </tbody>\n",
       "</table>\n",
       "<p>5 rows × 24 columns</p>\n",
       "</div>"
      ],
      "text/plain": [
       "  booking_date checkin_date checkout_date channel_code main_product_code  \\\n",
       "0   2018-04-05   2018-04-05    2018-04-06            3                 2   \n",
       "1   2015-05-24   2015-06-23    2015-06-27            1                 2   \n",
       "2   2015-07-21   2015-08-07    2015-08-10            3                 2   \n",
       "3   2015-07-31   2015-10-22    2015-10-25            1                 2   \n",
       "4   2016-07-01   2016-10-01    2016-10-05            1                 2   \n",
       "\n",
       "  numberofadults numberofchildren persontravellingid resort_region_code  \\\n",
       "0              2                0                 45                  3   \n",
       "1              4                0                 45                  1   \n",
       "2              3                0                 45                  2   \n",
       "3              3                0                 45                  1   \n",
       "4              4                0                 45                  1   \n",
       "\n",
       "  resort_type_code  ... total_pax member_age_buckets booking_type_code  \\\n",
       "0                3  ...         3                  7                 1   \n",
       "1                1  ...         2                  7                 1   \n",
       "2                2  ...         3                  7                 1   \n",
       "3                1  ...         3                  7                 1   \n",
       "4                2  ...         2                  7                 1   \n",
       "\n",
       "  cluster_code reservationstatusid_code  resort_id stay_days  month  year  \\\n",
       "0            0                        2         20         0      4  2018   \n",
       "1            5                        0         28         0      6  2015   \n",
       "2            3                        0         25         0      8  2015   \n",
       "3            5                        0          5         0     10  2015   \n",
       "4            5                        0         27         0     10  2016   \n",
       "\n",
       "   week_day  \n",
       "0         3  \n",
       "1         1  \n",
       "2         4  \n",
       "3         3  \n",
       "4         5  \n",
       "\n",
       "[5 rows x 24 columns]"
      ]
     },
     "execution_count": 67,
     "metadata": {},
     "output_type": "execute_result"
    }
   ],
   "source": [
    "test.head()"
   ]
  },
  {
   "cell_type": "markdown",
   "metadata": {},
   "source": [
    "# Linear Regression"
   ]
  },
  {
   "cell_type": "code",
   "execution_count": 68,
   "metadata": {},
   "outputs": [],
   "source": [
    "# data preparation\n",
    "X_train = train.drop([\"amount_spent_per_room_night_scaled\", 'booking_date','checkin_date','checkout_date'],1)\n",
    "y = train.amount_spent_per_room_night_scaled\n",
    "\n",
    "X_test = test.drop(['booking_date','checkin_date','checkout_date'],1)\n"
   ]
  },
  {
   "cell_type": "code",
   "execution_count": 69,
   "metadata": {},
   "outputs": [],
   "source": [
    "from sklearn.linear_model import LinearRegression"
   ]
  },
  {
   "cell_type": "code",
   "execution_count": 70,
   "metadata": {},
   "outputs": [],
   "source": [
    "lin_reg = LinearRegression()"
   ]
  },
  {
   "cell_type": "code",
   "execution_count": 71,
   "metadata": {},
   "outputs": [
    {
     "name": "stdout",
     "output_type": "stream",
     "text": [
      "RMSE scores of 3 fold cross validation = [1.01786092 1.03699913 1.08913975]\n"
     ]
    }
   ],
   "source": [
    "from sklearn.model_selection import cross_val_score\n",
    "scores = cross_val_score(lin_reg,X_train,y, scoring=\"neg_mean_squared_error\", cv=3)\n",
    "rmse_scores =np.sqrt(-scores)\n",
    "print(\"RMSE scores of 3 fold cross validation =\",rmse_scores)"
   ]
  },
  {
   "cell_type": "markdown",
   "metadata": {},
   "source": [
    "## train the linear regression model"
   ]
  },
  {
   "cell_type": "code",
   "execution_count": 72,
   "metadata": {},
   "outputs": [
    {
     "data": {
      "text/plain": [
       "LinearRegression(copy_X=True, fit_intercept=True, n_jobs=None,\n",
       "         normalize=False)"
      ]
     },
     "execution_count": 72,
     "metadata": {},
     "output_type": "execute_result"
    }
   ],
   "source": [
    "# train model\n",
    "lin_reg.fit(X_train,y)"
   ]
  },
  {
   "cell_type": "code",
   "execution_count": 73,
   "metadata": {},
   "outputs": [],
   "source": [
    "# predict on test\n",
    "lin_reg_prediction = lin_reg.predict(X_test)"
   ]
  },
  {
   "cell_type": "code",
   "execution_count": 74,
   "metadata": {},
   "outputs": [
    {
     "data": {
      "text/html": [
       "<div>\n",
       "<style scoped>\n",
       "    .dataframe tbody tr th:only-of-type {\n",
       "        vertical-align: middle;\n",
       "    }\n",
       "\n",
       "    .dataframe tbody tr th {\n",
       "        vertical-align: top;\n",
       "    }\n",
       "\n",
       "    .dataframe thead th {\n",
       "        text-align: right;\n",
       "    }\n",
       "</style>\n",
       "<table border=\"1\" class=\"dataframe\">\n",
       "  <thead>\n",
       "    <tr style=\"text-align: right;\">\n",
       "      <th></th>\n",
       "      <th>amount_spent_per_room_night_scaled</th>\n",
       "    </tr>\n",
       "    <tr>\n",
       "      <th>reservation_id</th>\n",
       "      <th></th>\n",
       "    </tr>\n",
       "  </thead>\n",
       "  <tbody>\n",
       "    <tr>\n",
       "      <th>7dae1ce6bc8f69481328f2be5c4943077dad5598b5f66d4787cb4596e3086b4f</th>\n",
       "      <td>7.689407</td>\n",
       "    </tr>\n",
       "    <tr>\n",
       "      <th>fe0d4e444e1818436c88f72f1cf800536c2f785e59baeb1946e644b405d6233c</th>\n",
       "      <td>7.471316</td>\n",
       "    </tr>\n",
       "    <tr>\n",
       "      <th>540bd4285ad8168e8388f84ee74a82cd4f97dc0a404d3e38f40dcb4ce0c4f552</th>\n",
       "      <td>7.459147</td>\n",
       "    </tr>\n",
       "    <tr>\n",
       "      <th>09593c907ae262e46f655b4db9e14f54a19eadcfdd26796a33cc98b01c6095c4</th>\n",
       "      <td>7.676480</td>\n",
       "    </tr>\n",
       "    <tr>\n",
       "      <th>f4c50caac68051faf37551d70bb17eebef2a20e2244cb1b2d117cd6602737ec1</th>\n",
       "      <td>7.691646</td>\n",
       "    </tr>\n",
       "  </tbody>\n",
       "</table>\n",
       "</div>"
      ],
      "text/plain": [
       "                                                    amount_spent_per_room_night_scaled\n",
       "reservation_id                                                                        \n",
       "7dae1ce6bc8f69481328f2be5c4943077dad5598b5f66d4...                            7.689407\n",
       "fe0d4e444e1818436c88f72f1cf800536c2f785e59baeb1...                            7.471316\n",
       "540bd4285ad8168e8388f84ee74a82cd4f97dc0a404d3e3...                            7.459147\n",
       "09593c907ae262e46f655b4db9e14f54a19eadcfdd26796...                            7.676480\n",
       "f4c50caac68051faf37551d70bb17eebef2a20e2244cb1b...                            7.691646"
      ]
     },
     "execution_count": 74,
     "metadata": {},
     "output_type": "execute_result"
    }
   ],
   "source": [
    "# write the predictions to csv file\n",
    "lin_reg_prediction  = pd.DataFrame(lin_reg_prediction)\n",
    "lin_reg_prediction.index = test_id\n",
    "lin_reg_prediction.columns = ['amount_spent_per_room_night_scaled']\n",
    "lin_reg_prediction.head()"
   ]
  },
  {
   "cell_type": "code",
   "execution_count": 75,
   "metadata": {},
   "outputs": [],
   "source": [
    "lin_reg_prediction.to_csv('lin_reg_prediction_weekday.csv')"
   ]
  },
  {
   "cell_type": "code",
   "execution_count": null,
   "metadata": {},
   "outputs": [],
   "source": []
  },
  {
   "cell_type": "code",
   "execution_count": null,
   "metadata": {},
   "outputs": [],
   "source": []
  },
  {
   "cell_type": "code",
   "execution_count": null,
   "metadata": {},
   "outputs": [],
   "source": []
  },
  {
   "cell_type": "code",
   "execution_count": null,
   "metadata": {},
   "outputs": [],
   "source": []
  },
  {
   "cell_type": "markdown",
   "metadata": {},
   "source": [
    "# Random Forest Regressor"
   ]
  },
  {
   "cell_type": "code",
   "execution_count": 76,
   "metadata": {},
   "outputs": [],
   "source": [
    "from sklearn.ensemble import RandomForestRegressor"
   ]
  },
  {
   "cell_type": "code",
   "execution_count": 77,
   "metadata": {},
   "outputs": [],
   "source": [
    "rf_reg = RandomForestRegressor(random_state=22, n_estimators=10)"
   ]
  },
  {
   "cell_type": "code",
   "execution_count": 78,
   "metadata": {},
   "outputs": [
    {
     "name": "stdout",
     "output_type": "stream",
     "text": [
      "RMSE scores of 3 fold cross validation = [1.07787715 1.09145876 1.15409781]\n"
     ]
    }
   ],
   "source": [
    "from sklearn.model_selection import cross_val_score\n",
    "scores = cross_val_score(rf_reg,X_train,y, scoring=\"neg_mean_squared_error\", cv=3)\n",
    "rmse_scores =np.sqrt(-scores)\n",
    "print(\"RMSE scores of 3 fold cross validation =\",rmse_scores)"
   ]
  },
  {
   "cell_type": "code",
   "execution_count": null,
   "metadata": {},
   "outputs": [],
   "source": []
  },
  {
   "cell_type": "markdown",
   "metadata": {},
   "source": [
    "# train Random forest"
   ]
  },
  {
   "cell_type": "code",
   "execution_count": 79,
   "metadata": {},
   "outputs": [
    {
     "data": {
      "text/plain": [
       "RandomForestRegressor(bootstrap=True, criterion='mse', max_depth=None,\n",
       "           max_features='auto', max_leaf_nodes=None,\n",
       "           min_impurity_decrease=0.0, min_impurity_split=None,\n",
       "           min_samples_leaf=1, min_samples_split=2,\n",
       "           min_weight_fraction_leaf=0.0, n_estimators=10, n_jobs=None,\n",
       "           oob_score=False, random_state=22, verbose=0, warm_start=False)"
      ]
     },
     "execution_count": 79,
     "metadata": {},
     "output_type": "execute_result"
    }
   ],
   "source": [
    "rf_reg.fit(X_train,y)"
   ]
  },
  {
   "cell_type": "markdown",
   "metadata": {},
   "source": [
    "## Check for important features"
   ]
  },
  {
   "cell_type": "code",
   "execution_count": 80,
   "metadata": {},
   "outputs": [],
   "source": [
    "rf_reg_imp_attr =rf_reg.feature_importances_"
   ]
  },
  {
   "cell_type": "code",
   "execution_count": 81,
   "metadata": {},
   "outputs": [],
   "source": [
    "attributes = list(X_train)"
   ]
  },
  {
   "cell_type": "code",
   "execution_count": 82,
   "metadata": {},
   "outputs": [
    {
     "data": {
      "text/plain": [
       "[(0.11864533227697423, 'month'),\n",
       " (0.11226828813417467, 'member_age_buckets'),\n",
       " (0.10825586005035279, 'week_day'),\n",
       " (0.10640904462805438, 'state_code_residence'),\n",
       " (0.06567415621289122, 'total_pax'),\n",
       " (0.061942638680641426, 'year'),\n",
       " (0.056533905736168455, 'numberofadults'),\n",
       " (0.052311820080103946, 'resort_id'),\n",
       " (0.0516271747816213, 'season_holidayed_code'),\n",
       " (0.04221381193979664, 'main_product_code'),\n",
       " (0.035696770630168365, 'room_type_booked_code'),\n",
       " (0.031791696622007634, 'persontravellingid'),\n",
       " (0.03076593502869048, 'numberofchildren'),\n",
       " (0.029983072026746126, 'channel_code'),\n",
       " (0.021675008350876847, 'state_code_resort'),\n",
       " (0.020245012819348616, 'reservationstatusid_code'),\n",
       " (0.016018001159911498, 'booking_type_code'),\n",
       " (0.014480188474432817, 'resort_type_code'),\n",
       " (0.012726289791771952, 'cluster_code'),\n",
       " (0.010735992575266612, 'resort_region_code'),\n",
       " (0.0, 'stay_days')]"
      ]
     },
     "execution_count": 82,
     "metadata": {},
     "output_type": "execute_result"
    }
   ],
   "source": [
    "sorted(zip(rf_reg_imp_attr, attributes), reverse=True)"
   ]
  },
  {
   "cell_type": "markdown",
   "metadata": {},
   "source": [
    "# Remove unnecessary features"
   ]
  },
  {
   "cell_type": "code",
   "execution_count": 83,
   "metadata": {},
   "outputs": [],
   "source": [
    "# remove 'stay_days','channel_code', 'reservationstatusid_code',  'booking_type_code', "
   ]
  },
  {
   "cell_type": "code",
   "execution_count": 84,
   "metadata": {},
   "outputs": [],
   "source": [
    "# data preparation\n",
    "X_train = train.drop([\"amount_spent_per_room_night_scaled\", 'booking_date','checkin_date','checkout_date',\n",
    "                     'stay_days','channel_code', 'reservationstatusid_code',  'booking_type_code'],1)\n",
    "y = train.amount_spent_per_room_night_scaled\n",
    "\n",
    "X_test = test.drop(['booking_date','checkin_date','checkout_date',\n",
    "                    'stay_days','channel_code', 'reservationstatusid_code',  'booking_type_code'],1)\n"
   ]
  },
  {
   "cell_type": "markdown",
   "metadata": {},
   "source": [
    "# Linear Reression"
   ]
  },
  {
   "cell_type": "code",
   "execution_count": 85,
   "metadata": {},
   "outputs": [
    {
     "name": "stdout",
     "output_type": "stream",
     "text": [
      "RMSE scores of 3 fold cross validation = [1.02208718 1.04252061 1.09336128]\n"
     ]
    }
   ],
   "source": [
    "from sklearn.linear_model import LinearRegression\n",
    "lin_reg = LinearRegression()\n",
    "\n",
    "from sklearn.model_selection import cross_val_score\n",
    "scores = cross_val_score(lin_reg,X_train,y, scoring=\"neg_mean_squared_error\", cv=3)\n",
    "rmse_scores =np.sqrt(-scores)\n",
    "print(\"RMSE scores of 3 fold cross validation =\",rmse_scores)"
   ]
  },
  {
   "cell_type": "markdown",
   "metadata": {},
   "source": [
    "# Random Forest"
   ]
  },
  {
   "cell_type": "code",
   "execution_count": 86,
   "metadata": {},
   "outputs": [
    {
     "name": "stdout",
     "output_type": "stream",
     "text": [
      "RMSE scores of 3 fold cross validation = [1.03541077 1.05088494 1.11229462]\n"
     ]
    }
   ],
   "source": [
    "from sklearn.ensemble import RandomForestRegressor\n",
    "rf_reg = RandomForestRegressor(random_state=22, n_estimators=100)\n",
    "\n",
    "from sklearn.model_selection import cross_val_score\n",
    "scores = cross_val_score(rf_reg,X_train,y, scoring=\"neg_mean_squared_error\", cv=3)\n",
    "rmse_scores =np.sqrt(-scores)\n",
    "print(\"RMSE scores of 3 fold cross validation =\",rmse_scores)\n"
   ]
  },
  {
   "cell_type": "code",
   "execution_count": null,
   "metadata": {},
   "outputs": [],
   "source": []
  },
  {
   "cell_type": "code",
   "execution_count": 87,
   "metadata": {},
   "outputs": [],
   "source": [
    "from sklearn.neighbors import KNeighborsRegressor"
   ]
  },
  {
   "cell_type": "code",
   "execution_count": 88,
   "metadata": {},
   "outputs": [],
   "source": [
    "knn_reg = KNeighborsRegressor()"
   ]
  },
  {
   "cell_type": "code",
   "execution_count": 89,
   "metadata": {},
   "outputs": [
    {
     "name": "stdout",
     "output_type": "stream",
     "text": [
      "RMSE scores of 3 fold cross validation = [1.09261601 1.11106952 1.16340777]\n"
     ]
    }
   ],
   "source": [
    "from sklearn.model_selection import cross_val_score\n",
    "scores = cross_val_score(knn_reg,X_train,y, scoring=\"neg_mean_squared_error\", cv=3)\n",
    "rmse_scores =np.sqrt(-scores)\n",
    "print(\"RMSE scores of 3 fold cross validation =\",rmse_scores)\n"
   ]
  },
  {
   "cell_type": "code",
   "execution_count": null,
   "metadata": {},
   "outputs": [],
   "source": []
  }
 ],
 "metadata": {
  "kernelspec": {
   "display_name": "Python 3",
   "language": "python",
   "name": "python3"
  },
  "language_info": {
   "codemirror_mode": {
    "name": "ipython",
    "version": 3
   },
   "file_extension": ".py",
   "mimetype": "text/x-python",
   "name": "python",
   "nbconvert_exporter": "python",
   "pygments_lexer": "ipython3",
   "version": "3.6.8"
  }
 },
 "nbformat": 4,
 "nbformat_minor": 2
}
